{
 "cells": [
  {
   "cell_type": "markdown",
   "id": "c6a41d13",
   "metadata": {},
   "source": [
    "# Aviation Risk Analysis: Identifying the Safest Aircraft Models"
   ]
  },
  {
   "cell_type": "markdown",
   "id": "44dffa90",
   "metadata": {},
   "source": [
    "## Project Overview\n",
    "The company is exploring a new business venture: purchasing and operating aircraft for both commercial and private services. Before making such a significant investment, leadership needs to understand which aircraft models present the lowest operational risk. This project uses historical accident data from the U.S. National Transportation Safety Board (NTSB) to identify the safest aircraft types and provide clear, evidence-based recommendations. The analysis focuses on real-world aviation accident records from 1962 through 2023."
   ]
  },
  {
   "cell_type": "markdown",
   "id": "33f5447b",
   "metadata": {},
   "source": [
    "## Business Understanding\n",
    "The key stakeholder is the head of the new Aviation Division. Their central question is: **Which aircraft models are the safest to acquire and operate?** To answer this, we will clean and explore the NTSB accident dataset, calculate risk metrics such as fatal- or serious-injury rates, and evaluate how different aircraft characteristics, flight conditions, and operational factors contribute to accident severity. The end result will be a set of actionable insights, backed by data, that guide purchase decisions and reduce safety risks."
   ]
  },
  {
   "cell_type": "markdown",
   "id": "06316faa",
   "metadata": {},
   "source": [
    "## Project Objectives\n",
    "* Identify the aircraft makes and models with the lowest accident and fatal-injury rates in the NTSB dataset from 1962–2023.\n",
    "* Analyze how factors such as number of engines, flight purpose, weather conditions, and phase of flight affect accident severity.\n",
    "* Provide clear, data-backed recommendations to guide the company’s aircraft purchase and operational decisions."
   ]
  },
  {
   "cell_type": "markdown",
   "id": "050ab390",
   "metadata": {},
   "source": [
    "### 1. Data Acquisition & Loading"
   ]
  },
  {
   "cell_type": "code",
   "execution_count": 59,
   "id": "d30a7a6c",
   "metadata": {},
   "outputs": [],
   "source": [
    "# Import Liabraries\n",
    "import pandas as pd\n",
    "import numpy as np\n",
    "import matplotlib.pyplot as plt\n",
    "import seaborn as sns"
   ]
  },
  {
   "cell_type": "code",
   "execution_count": 60,
   "id": "84943e92",
   "metadata": {},
   "outputs": [
    {
     "data": {
      "text/html": [
       "<div>\n",
       "<style scoped>\n",
       "    .dataframe tbody tr th:only-of-type {\n",
       "        vertical-align: middle;\n",
       "    }\n",
       "\n",
       "    .dataframe tbody tr th {\n",
       "        vertical-align: top;\n",
       "    }\n",
       "\n",
       "    .dataframe thead th {\n",
       "        text-align: right;\n",
       "    }\n",
       "</style>\n",
       "<table border=\"1\" class=\"dataframe\">\n",
       "  <thead>\n",
       "    <tr style=\"text-align: right;\">\n",
       "      <th></th>\n",
       "      <th>Event Id</th>\n",
       "      <th>Investigation Type</th>\n",
       "      <th>Country</th>\n",
       "      <th>Aircraft Damage</th>\n",
       "      <th>Aircraft Category</th>\n",
       "      <th>Make</th>\n",
       "      <th>Model</th>\n",
       "      <th>Amateur Built</th>\n",
       "      <th>Number Of Engines</th>\n",
       "      <th>Engine Type</th>\n",
       "      <th>...</th>\n",
       "      <th>Event Year</th>\n",
       "      <th>Publication Year</th>\n",
       "      <th>Event Month</th>\n",
       "      <th>Publication Month</th>\n",
       "      <th>Event Day</th>\n",
       "      <th>Publication Day</th>\n",
       "      <th>Date Difference</th>\n",
       "      <th>Publication Month Name</th>\n",
       "      <th>Event Month Name</th>\n",
       "      <th>Season</th>\n",
       "    </tr>\n",
       "  </thead>\n",
       "  <tbody>\n",
       "    <tr>\n",
       "      <th>0</th>\n",
       "      <td>20001218X45444</td>\n",
       "      <td>Accident</td>\n",
       "      <td>United States</td>\n",
       "      <td>Destroyed</td>\n",
       "      <td>fixed wing single engine</td>\n",
       "      <td>stinson</td>\n",
       "      <td>108-3</td>\n",
       "      <td>No</td>\n",
       "      <td>1</td>\n",
       "      <td>reciprocating</td>\n",
       "      <td>...</td>\n",
       "      <td>1948</td>\n",
       "      <td>2001</td>\n",
       "      <td>10</td>\n",
       "      <td>8</td>\n",
       "      <td>24</td>\n",
       "      <td>24.0</td>\n",
       "      <td>26</td>\n",
       "      <td>August</td>\n",
       "      <td>October</td>\n",
       "      <td>Fall</td>\n",
       "    </tr>\n",
       "    <tr>\n",
       "      <th>1</th>\n",
       "      <td>20001218X45447</td>\n",
       "      <td>Accident</td>\n",
       "      <td>United States</td>\n",
       "      <td>Destroyed</td>\n",
       "      <td>weight-shift-control</td>\n",
       "      <td>piper</td>\n",
       "      <td>pa24-180</td>\n",
       "      <td>No</td>\n",
       "      <td>1</td>\n",
       "      <td>reciprocating</td>\n",
       "      <td>...</td>\n",
       "      <td>1962</td>\n",
       "      <td>1996</td>\n",
       "      <td>7</td>\n",
       "      <td>9</td>\n",
       "      <td>19</td>\n",
       "      <td>19.0</td>\n",
       "      <td>34</td>\n",
       "      <td>September</td>\n",
       "      <td>July</td>\n",
       "      <td>Summer</td>\n",
       "    </tr>\n",
       "    <tr>\n",
       "      <th>2</th>\n",
       "      <td>20061025X01555</td>\n",
       "      <td>Accident</td>\n",
       "      <td>United States</td>\n",
       "      <td>Destroyed</td>\n",
       "      <td>fixed wing single engine</td>\n",
       "      <td>cessna</td>\n",
       "      <td>172m</td>\n",
       "      <td>No</td>\n",
       "      <td>1</td>\n",
       "      <td>reciprocating</td>\n",
       "      <td>...</td>\n",
       "      <td>1974</td>\n",
       "      <td>2007</td>\n",
       "      <td>8</td>\n",
       "      <td>2</td>\n",
       "      <td>30</td>\n",
       "      <td>30.0</td>\n",
       "      <td>33</td>\n",
       "      <td>February</td>\n",
       "      <td>August</td>\n",
       "      <td>Summer</td>\n",
       "    </tr>\n",
       "    <tr>\n",
       "      <th>3</th>\n",
       "      <td>20001218X45448</td>\n",
       "      <td>Accident</td>\n",
       "      <td>United States</td>\n",
       "      <td>Destroyed</td>\n",
       "      <td>weight-shift-control</td>\n",
       "      <td>rockwell</td>\n",
       "      <td>112</td>\n",
       "      <td>No</td>\n",
       "      <td>1</td>\n",
       "      <td>reciprocating</td>\n",
       "      <td>...</td>\n",
       "      <td>1977</td>\n",
       "      <td>2000</td>\n",
       "      <td>6</td>\n",
       "      <td>12</td>\n",
       "      <td>19</td>\n",
       "      <td>19.0</td>\n",
       "      <td>23</td>\n",
       "      <td>December</td>\n",
       "      <td>June</td>\n",
       "      <td>Summer</td>\n",
       "    </tr>\n",
       "    <tr>\n",
       "      <th>4</th>\n",
       "      <td>20041105X01764</td>\n",
       "      <td>Accident</td>\n",
       "      <td>United States</td>\n",
       "      <td>Destroyed</td>\n",
       "      <td>fixed wing multi engine</td>\n",
       "      <td>cessna</td>\n",
       "      <td>501</td>\n",
       "      <td>No</td>\n",
       "      <td>2</td>\n",
       "      <td>turbo fan</td>\n",
       "      <td>...</td>\n",
       "      <td>1979</td>\n",
       "      <td>1980</td>\n",
       "      <td>8</td>\n",
       "      <td>4</td>\n",
       "      <td>2</td>\n",
       "      <td>2.0</td>\n",
       "      <td>1</td>\n",
       "      <td>April</td>\n",
       "      <td>August</td>\n",
       "      <td>Summer</td>\n",
       "    </tr>\n",
       "  </tbody>\n",
       "</table>\n",
       "<p>5 rows × 45 columns</p>\n",
       "</div>"
      ],
      "text/plain": [
       "         Event Id Investigation Type        Country Aircraft Damage  \\\n",
       "0  20001218X45444           Accident  United States       Destroyed   \n",
       "1  20001218X45447           Accident  United States       Destroyed   \n",
       "2  20061025X01555           Accident  United States       Destroyed   \n",
       "3  20001218X45448           Accident  United States       Destroyed   \n",
       "4  20041105X01764           Accident  United States       Destroyed   \n",
       "\n",
       "          Aircraft Category      Make     Model Amateur Built  \\\n",
       "0  fixed wing single engine   stinson     108-3            No   \n",
       "1      weight-shift-control     piper  pa24-180            No   \n",
       "2  fixed wing single engine    cessna      172m            No   \n",
       "3      weight-shift-control  rockwell       112            No   \n",
       "4   fixed wing multi engine    cessna       501            No   \n",
       "\n",
       "   Number Of Engines    Engine Type  ... Event Year Publication Year  \\\n",
       "0                  1  reciprocating  ...       1948             2001   \n",
       "1                  1  reciprocating  ...       1962             1996   \n",
       "2                  1  reciprocating  ...       1974             2007   \n",
       "3                  1  reciprocating  ...       1977             2000   \n",
       "4                  2      turbo fan  ...       1979             1980   \n",
       "\n",
       "  Event Month  Publication Month  Event Day  Publication Day  Date Difference  \\\n",
       "0          10                  8         24             24.0               26   \n",
       "1           7                  9         19             19.0               34   \n",
       "2           8                  2         30             30.0               33   \n",
       "3           6                 12         19             19.0               23   \n",
       "4           8                  4          2              2.0                1   \n",
       "\n",
       "  Publication Month Name Event Month Name  Season  \n",
       "0                 August          October    Fall  \n",
       "1              September             July  Summer  \n",
       "2               February           August  Summer  \n",
       "3               December             June  Summer  \n",
       "4                  April           August  Summer  \n",
       "\n",
       "[5 rows x 45 columns]"
      ]
     },
     "execution_count": 60,
     "metadata": {},
     "output_type": "execute_result"
    }
   ],
   "source": [
    "# Load Dataset\n",
    "df = pd.read_csv('./NTSB_database.csv')\n",
    "df.head()"
   ]
  },
  {
   "cell_type": "code",
   "execution_count": 61,
   "id": "fb22695c",
   "metadata": {},
   "outputs": [
    {
     "data": {
      "text/plain": [
       "(87951, 45)"
      ]
     },
     "execution_count": 61,
     "metadata": {},
     "output_type": "execute_result"
    }
   ],
   "source": [
    "# Initial Checks\n",
    "df.shape"
   ]
  },
  {
   "cell_type": "code",
   "execution_count": 62,
   "id": "55b3c118",
   "metadata": {},
   "outputs": [
    {
     "name": "stdout",
     "output_type": "stream",
     "text": [
      "<class 'pandas.core.frame.DataFrame'>\n",
      "RangeIndex: 87951 entries, 0 to 87950\n",
      "Data columns (total 45 columns):\n",
      " #   Column                        Non-Null Count  Dtype  \n",
      "---  ------                        --------------  -----  \n",
      " 0   Event Id                      87951 non-null  object \n",
      " 1   Investigation Type            87951 non-null  object \n",
      " 2   Country                       87951 non-null  object \n",
      " 3   Aircraft Damage               87951 non-null  object \n",
      " 4   Aircraft Category             87951 non-null  object \n",
      " 5   Make                          87951 non-null  object \n",
      " 6   Model                         87951 non-null  object \n",
      " 7   Amateur Built                 87951 non-null  object \n",
      " 8   Number Of Engines             87951 non-null  int64  \n",
      " 9   Engine Type                   87951 non-null  object \n",
      " 10  Far Description               87951 non-null  object \n",
      " 11  Schedule                      87951 non-null  object \n",
      " 12  Purpose Of Flight             87951 non-null  object \n",
      " 13  Total Fatal Injuries          87951 non-null  int64  \n",
      " 14  Total Serious Injuries        87951 non-null  int64  \n",
      " 15  Total Minor Injuries          87951 non-null  int64  \n",
      " 16  Total Uninjured               87951 non-null  int64  \n",
      " 17  Weather Condition             87951 non-null  object \n",
      " 18  Broad Phase Of Flight         87951 non-null  object \n",
      " 19  Analysis                      87951 non-null  object \n",
      " 20  City                          87939 non-null  object \n",
      " 21  Longitude                     87951 non-null  float64\n",
      " 22  Latitude                      87951 non-null  float64\n",
      " 23  Address                       87951 non-null  object \n",
      " 24  geometry                      87951 non-null  object \n",
      " 25  Place                         87951 non-null  object \n",
      " 26  Number Of Seats               87951 non-null  int64  \n",
      " 27  Type Aircraft                 87951 non-null  int64  \n",
      " 28  Type Engine                   87951 non-null  int64  \n",
      " 29  Total Person                  87951 non-null  int64  \n",
      " 30  Far Description Factorized    87951 non-null  int64  \n",
      " 31  Schedule Factorized           87951 non-null  int64  \n",
      " 32  Purpose Of Flight Factorized  87951 non-null  int64  \n",
      " 33  Make Factorized               87951 non-null  int64  \n",
      " 34  Model Factorized              87951 non-null  int64  \n",
      " 35  Event Year                    87951 non-null  int64  \n",
      " 36  Publication Year              87951 non-null  int64  \n",
      " 37  Event Month                   87951 non-null  int64  \n",
      " 38  Publication Month             87951 non-null  int64  \n",
      " 39  Event Day                     87951 non-null  int64  \n",
      " 40  Publication Day               87951 non-null  float64\n",
      " 41  Date Difference               87951 non-null  int64  \n",
      " 42  Publication Month Name        87951 non-null  object \n",
      " 43  Event Month Name              87951 non-null  object \n",
      " 44  Season                        87951 non-null  object \n",
      "dtypes: float64(3), int64(20), object(22)\n",
      "memory usage: 30.2+ MB\n"
     ]
    }
   ],
   "source": [
    "df.info()"
   ]
  },
  {
   "cell_type": "code",
   "execution_count": 63,
   "id": "9a8d62d8",
   "metadata": {},
   "outputs": [
    {
     "data": {
      "text/html": [
       "<div>\n",
       "<style scoped>\n",
       "    .dataframe tbody tr th:only-of-type {\n",
       "        vertical-align: middle;\n",
       "    }\n",
       "\n",
       "    .dataframe tbody tr th {\n",
       "        vertical-align: top;\n",
       "    }\n",
       "\n",
       "    .dataframe thead th {\n",
       "        text-align: right;\n",
       "    }\n",
       "</style>\n",
       "<table border=\"1\" class=\"dataframe\">\n",
       "  <thead>\n",
       "    <tr style=\"text-align: right;\">\n",
       "      <th></th>\n",
       "      <th>Number Of Engines</th>\n",
       "      <th>Total Fatal Injuries</th>\n",
       "      <th>Total Serious Injuries</th>\n",
       "      <th>Total Minor Injuries</th>\n",
       "      <th>Total Uninjured</th>\n",
       "      <th>Longitude</th>\n",
       "      <th>Latitude</th>\n",
       "      <th>Number Of Seats</th>\n",
       "      <th>Type Aircraft</th>\n",
       "      <th>Type Engine</th>\n",
       "      <th>...</th>\n",
       "      <th>Purpose Of Flight Factorized</th>\n",
       "      <th>Make Factorized</th>\n",
       "      <th>Model Factorized</th>\n",
       "      <th>Event Year</th>\n",
       "      <th>Publication Year</th>\n",
       "      <th>Event Month</th>\n",
       "      <th>Publication Month</th>\n",
       "      <th>Event Day</th>\n",
       "      <th>Publication Day</th>\n",
       "      <th>Date Difference</th>\n",
       "    </tr>\n",
       "  </thead>\n",
       "  <tbody>\n",
       "    <tr>\n",
       "      <th>count</th>\n",
       "      <td>87951.000000</td>\n",
       "      <td>87951.000000</td>\n",
       "      <td>87951.000000</td>\n",
       "      <td>87951.000000</td>\n",
       "      <td>87951.000000</td>\n",
       "      <td>87951.000000</td>\n",
       "      <td>87951.000000</td>\n",
       "      <td>87951.000000</td>\n",
       "      <td>87951.000000</td>\n",
       "      <td>87951.000000</td>\n",
       "      <td>...</td>\n",
       "      <td>87951.000000</td>\n",
       "      <td>87951.000000</td>\n",
       "      <td>87951.000000</td>\n",
       "      <td>87951.000000</td>\n",
       "      <td>87951.000000</td>\n",
       "      <td>87951.000000</td>\n",
       "      <td>87951.000000</td>\n",
       "      <td>87951.000000</td>\n",
       "      <td>87951.000000</td>\n",
       "      <td>87951.000000</td>\n",
       "    </tr>\n",
       "    <tr>\n",
       "      <th>mean</th>\n",
       "      <td>1.143171</td>\n",
       "      <td>0.534184</td>\n",
       "      <td>0.276881</td>\n",
       "      <td>0.316290</td>\n",
       "      <td>4.325181</td>\n",
       "      <td>-84.438795</td>\n",
       "      <td>37.456033</td>\n",
       "      <td>11.055565</td>\n",
       "      <td>7.491592</td>\n",
       "      <td>1.320224</td>\n",
       "      <td>...</td>\n",
       "      <td>1.850678</td>\n",
       "      <td>600.506009</td>\n",
       "      <td>2101.362918</td>\n",
       "      <td>1999.265455</td>\n",
       "      <td>2002.113347</td>\n",
       "      <td>6.589385</td>\n",
       "      <td>6.903799</td>\n",
       "      <td>15.728860</td>\n",
       "      <td>15.728860</td>\n",
       "      <td>2.886766</td>\n",
       "    </tr>\n",
       "    <tr>\n",
       "      <th>std</th>\n",
       "      <td>0.450370</td>\n",
       "      <td>3.075452</td>\n",
       "      <td>1.336561</td>\n",
       "      <td>1.793138</td>\n",
       "      <td>22.312659</td>\n",
       "      <td>46.966700</td>\n",
       "      <td>14.067686</td>\n",
       "      <td>40.533493</td>\n",
       "      <td>3.560943</td>\n",
       "      <td>0.977549</td>\n",
       "      <td>...</td>\n",
       "      <td>3.094395</td>\n",
       "      <td>1507.969996</td>\n",
       "      <td>2970.271576</td>\n",
       "      <td>11.903151</td>\n",
       "      <td>13.011296</td>\n",
       "      <td>3.061984</td>\n",
       "      <td>3.031236</td>\n",
       "      <td>8.839005</td>\n",
       "      <td>8.839005</td>\n",
       "      <td>3.544021</td>\n",
       "    </tr>\n",
       "    <tr>\n",
       "      <th>min</th>\n",
       "      <td>0.000000</td>\n",
       "      <td>0.000000</td>\n",
       "      <td>0.000000</td>\n",
       "      <td>0.000000</td>\n",
       "      <td>0.000000</td>\n",
       "      <td>-177.375430</td>\n",
       "      <td>-77.848335</td>\n",
       "      <td>0.000000</td>\n",
       "      <td>1.000000</td>\n",
       "      <td>0.000000</td>\n",
       "      <td>...</td>\n",
       "      <td>0.000000</td>\n",
       "      <td>0.000000</td>\n",
       "      <td>0.000000</td>\n",
       "      <td>1948.000000</td>\n",
       "      <td>1980.000000</td>\n",
       "      <td>1.000000</td>\n",
       "      <td>1.000000</td>\n",
       "      <td>1.000000</td>\n",
       "      <td>1.000000</td>\n",
       "      <td>0.000000</td>\n",
       "    </tr>\n",
       "    <tr>\n",
       "      <th>25%</th>\n",
       "      <td>1.000000</td>\n",
       "      <td>0.000000</td>\n",
       "      <td>0.000000</td>\n",
       "      <td>0.000000</td>\n",
       "      <td>0.000000</td>\n",
       "      <td>-110.929451</td>\n",
       "      <td>33.370320</td>\n",
       "      <td>3.000000</td>\n",
       "      <td>4.000000</td>\n",
       "      <td>1.000000</td>\n",
       "      <td>...</td>\n",
       "      <td>0.000000</td>\n",
       "      <td>2.000000</td>\n",
       "      <td>111.000000</td>\n",
       "      <td>1989.000000</td>\n",
       "      <td>1992.000000</td>\n",
       "      <td>4.000000</td>\n",
       "      <td>4.000000</td>\n",
       "      <td>8.000000</td>\n",
       "      <td>8.000000</td>\n",
       "      <td>1.000000</td>\n",
       "    </tr>\n",
       "    <tr>\n",
       "      <th>50%</th>\n",
       "      <td>1.000000</td>\n",
       "      <td>0.000000</td>\n",
       "      <td>0.000000</td>\n",
       "      <td>0.000000</td>\n",
       "      <td>1.000000</td>\n",
       "      <td>-90.664799</td>\n",
       "      <td>38.729625</td>\n",
       "      <td>4.000000</td>\n",
       "      <td>7.000000</td>\n",
       "      <td>1.000000</td>\n",
       "      <td>...</td>\n",
       "      <td>0.000000</td>\n",
       "      <td>6.000000</td>\n",
       "      <td>442.000000</td>\n",
       "      <td>1998.000000</td>\n",
       "      <td>2000.000000</td>\n",
       "      <td>7.000000</td>\n",
       "      <td>8.000000</td>\n",
       "      <td>16.000000</td>\n",
       "      <td>16.000000</td>\n",
       "      <td>1.000000</td>\n",
       "    </tr>\n",
       "    <tr>\n",
       "      <th>75%</th>\n",
       "      <td>1.000000</td>\n",
       "      <td>0.000000</td>\n",
       "      <td>0.000000</td>\n",
       "      <td>0.000000</td>\n",
       "      <td>2.000000</td>\n",
       "      <td>-79.384030</td>\n",
       "      <td>43.207178</td>\n",
       "      <td>5.000000</td>\n",
       "      <td>12.000000</td>\n",
       "      <td>1.000000</td>\n",
       "      <td>...</td>\n",
       "      <td>3.000000</td>\n",
       "      <td>59.000000</td>\n",
       "      <td>3324.000000</td>\n",
       "      <td>2009.000000</td>\n",
       "      <td>2020.000000</td>\n",
       "      <td>9.000000</td>\n",
       "      <td>9.000000</td>\n",
       "      <td>23.000000</td>\n",
       "      <td>23.000000</td>\n",
       "      <td>3.000000</td>\n",
       "    </tr>\n",
       "    <tr>\n",
       "      <th>max</th>\n",
       "      <td>8.000000</td>\n",
       "      <td>270.000000</td>\n",
       "      <td>137.000000</td>\n",
       "      <td>380.000000</td>\n",
       "      <td>459.000000</td>\n",
       "      <td>179.559745</td>\n",
       "      <td>90.000000</td>\n",
       "      <td>660.000000</td>\n",
       "      <td>21.000000</td>\n",
       "      <td>14.000000</td>\n",
       "      <td>...</td>\n",
       "      <td>25.000000</td>\n",
       "      <td>7551.000000</td>\n",
       "      <td>11562.000000</td>\n",
       "      <td>2022.000000</td>\n",
       "      <td>2022.000000</td>\n",
       "      <td>12.000000</td>\n",
       "      <td>12.000000</td>\n",
       "      <td>31.000000</td>\n",
       "      <td>31.000000</td>\n",
       "      <td>38.000000</td>\n",
       "    </tr>\n",
       "  </tbody>\n",
       "</table>\n",
       "<p>8 rows × 23 columns</p>\n",
       "</div>"
      ],
      "text/plain": [
       "       Number Of Engines  Total Fatal Injuries  Total Serious Injuries  \\\n",
       "count       87951.000000          87951.000000            87951.000000   \n",
       "mean            1.143171              0.534184                0.276881   \n",
       "std             0.450370              3.075452                1.336561   \n",
       "min             0.000000              0.000000                0.000000   \n",
       "25%             1.000000              0.000000                0.000000   \n",
       "50%             1.000000              0.000000                0.000000   \n",
       "75%             1.000000              0.000000                0.000000   \n",
       "max             8.000000            270.000000              137.000000   \n",
       "\n",
       "       Total Minor Injuries  Total Uninjured     Longitude      Latitude  \\\n",
       "count          87951.000000     87951.000000  87951.000000  87951.000000   \n",
       "mean               0.316290         4.325181    -84.438795     37.456033   \n",
       "std                1.793138        22.312659     46.966700     14.067686   \n",
       "min                0.000000         0.000000   -177.375430    -77.848335   \n",
       "25%                0.000000         0.000000   -110.929451     33.370320   \n",
       "50%                0.000000         1.000000    -90.664799     38.729625   \n",
       "75%                0.000000         2.000000    -79.384030     43.207178   \n",
       "max              380.000000       459.000000    179.559745     90.000000   \n",
       "\n",
       "       Number Of Seats  Type Aircraft   Type Engine  ...  \\\n",
       "count     87951.000000   87951.000000  87951.000000  ...   \n",
       "mean         11.055565       7.491592      1.320224  ...   \n",
       "std          40.533493       3.560943      0.977549  ...   \n",
       "min           0.000000       1.000000      0.000000  ...   \n",
       "25%           3.000000       4.000000      1.000000  ...   \n",
       "50%           4.000000       7.000000      1.000000  ...   \n",
       "75%           5.000000      12.000000      1.000000  ...   \n",
       "max         660.000000      21.000000     14.000000  ...   \n",
       "\n",
       "       Purpose Of Flight Factorized  Make Factorized  Model Factorized  \\\n",
       "count                  87951.000000     87951.000000      87951.000000   \n",
       "mean                       1.850678       600.506009       2101.362918   \n",
       "std                        3.094395      1507.969996       2970.271576   \n",
       "min                        0.000000         0.000000          0.000000   \n",
       "25%                        0.000000         2.000000        111.000000   \n",
       "50%                        0.000000         6.000000        442.000000   \n",
       "75%                        3.000000        59.000000       3324.000000   \n",
       "max                       25.000000      7551.000000      11562.000000   \n",
       "\n",
       "         Event Year  Publication Year   Event Month  Publication Month  \\\n",
       "count  87951.000000      87951.000000  87951.000000       87951.000000   \n",
       "mean    1999.265455       2002.113347      6.589385           6.903799   \n",
       "std       11.903151         13.011296      3.061984           3.031236   \n",
       "min     1948.000000       1980.000000      1.000000           1.000000   \n",
       "25%     1989.000000       1992.000000      4.000000           4.000000   \n",
       "50%     1998.000000       2000.000000      7.000000           8.000000   \n",
       "75%     2009.000000       2020.000000      9.000000           9.000000   \n",
       "max     2022.000000       2022.000000     12.000000          12.000000   \n",
       "\n",
       "          Event Day  Publication Day  Date Difference  \n",
       "count  87951.000000     87951.000000     87951.000000  \n",
       "mean      15.728860        15.728860         2.886766  \n",
       "std        8.839005         8.839005         3.544021  \n",
       "min        1.000000         1.000000         0.000000  \n",
       "25%        8.000000         8.000000         1.000000  \n",
       "50%       16.000000        16.000000         1.000000  \n",
       "75%       23.000000        23.000000         3.000000  \n",
       "max       31.000000        31.000000        38.000000  \n",
       "\n",
       "[8 rows x 23 columns]"
      ]
     },
     "execution_count": 63,
     "metadata": {},
     "output_type": "execute_result"
    }
   ],
   "source": [
    "df.describe()"
   ]
  },
  {
   "cell_type": "markdown",
   "id": "3b47c414",
   "metadata": {},
   "source": [
    "### 2. Data Understanding"
   ]
  },
  {
   "cell_type": "markdown",
   "id": "42f0aa88",
   "metadata": {},
   "source": [
    "We’ll keep only the fields needed to filter by time and measure safety severity by make/model. These allows us clean the data, slice recent years (2010–2022) and compute severity rates that drive buy or no-buy recommendations.\n",
    "\n",
    "\n",
    "* *Event Id* — unique identifier (check duplication).\n",
    "* *Event Year / Month / Day* — when it happened (time filters & trends).\n",
    "* *Make* — manufacturer (compare brands).\n",
    "* *Model* — specific aircraft type (model-level rankings).\n",
    "* *Aircraft Category* — aircraft class (compare like-with-like).\n",
    "* *Number Of Engines* — single vs multi (risk differs).\n",
    "* *Engine Type* — piston / turboprop / jet / other (risk differs).\n",
    "* *Aircraft Damage* — rough severity proxy (minor/substantial/destroyed).\n",
    "* *Broad Phase Of Flight* — takeoff/landing/etc. (phase risk).\n",
    "* *Weather Condition* — VMC/IMC etc. (weather-related risk).\n",
    "* *Purpose Of Flight* *(if present)* — personal/training/commercial (ops context).\n",
    "* *Injury columns* — *Total Fatal / Serious / Minor / Uninjured* (define severity).\n"
   ]
  },
  {
   "cell_type": "code",
   "execution_count": 64,
   "id": "2beb6f3d",
   "metadata": {},
   "outputs": [
    {
     "data": {
      "text/plain": [
       "City                     12\n",
       "Longitude                 0\n",
       "Analysis                  0\n",
       "Broad Phase Of Flight     0\n",
       "Weather Condition         0\n",
       "dtype: int64"
      ]
     },
     "execution_count": 64,
     "metadata": {},
     "output_type": "execute_result"
    }
   ],
   "source": [
    "# Check for missing values\n",
    "(df.isna().sum()).sort_values(ascending=False).head()"
   ]
  },
  {
   "cell_type": "code",
   "execution_count": 65,
   "id": "4b6ae544",
   "metadata": {},
   "outputs": [
    {
     "data": {
      "image/png": "[encoded data removed]",
      "text/plain": [
       "<Figure size 576x288 with 1 Axes>"
      ]
     },
     "metadata": {
      "needs_background": "light"
     },
     "output_type": "display_data"
    }
   ],
   "source": [
    "# Bar chart for missing values\n",
    "missing_vls = (df.isna().sum()).sort_values(ascending=False).head()\n",
    "missing_vls.plot(kind=\"barh\", figsize=(8,4))\n",
    "plt.xlabel(\"Data Points Missing\")\n",
    "plt.ylabel(\"Column\")\n",
    "plt.title(\"Top 5 columns by missing data\")\n",
    "plt.gca().invert_yaxis()\n",
    "plt.show();"
   ]
  },
  {
   "cell_type": "markdown",
   "id": "d1da20ce",
   "metadata": {},
   "source": [
    "The horizontal bar chart shows the top 5 columns with the most missing values in descending order"
   ]
  },
  {
   "cell_type": "code",
   "execution_count": 66,
   "id": "31edfa3a",
   "metadata": {},
   "outputs": [
    {
     "data": {
      "text/plain": [
       "0"
      ]
     },
     "execution_count": 66,
     "metadata": {},
     "output_type": "execute_result"
    }
   ],
   "source": [
    "# Check for duplicates in the Event ID column\n",
    "df['Event Id'].duplicated().sum()"
   ]
  },
  {
   "cell_type": "code",
   "execution_count": 67,
   "id": "9cbf7054",
   "metadata": {},
   "outputs": [
    {
     "data": {
      "text/plain": [
       "(True, True, True)"
      ]
     },
     "execution_count": 67,
     "metadata": {},
     "output_type": "execute_result"
    }
   ],
   "source": [
    "# Ensure the event date fields exist so that we can filter by time\n",
    "'Event Year' in df.columns, 'Event Month' in df.columns, 'Event Day' in df.columns"
   ]
  },
  {
   "cell_type": "code",
   "execution_count": 68,
   "id": "ce75f294",
   "metadata": {},
   "outputs": [
    {
     "data": {
      "text/plain": [
       "True"
      ]
     },
     "execution_count": 68,
     "metadata": {},
     "output_type": "execute_result"
    }
   ],
   "source": [
    "# Check date parts are valid (no weird years, months or days)\n",
    "df[\"Event Year\"].between(1960, 2023).all()\n",
    "df[\"Event Month\"].between(1, 12).all()\n",
    "df[\"Event Day\"].between(1, 31).all()"
   ]
  },
  {
   "cell_type": "code",
   "execution_count": 69,
   "id": "be76c168",
   "metadata": {},
   "outputs": [
    {
     "data": {
      "text/html": [
       "<div>\n",
       "<style scoped>\n",
       "    .dataframe tbody tr th:only-of-type {\n",
       "        vertical-align: middle;\n",
       "    }\n",
       "\n",
       "    .dataframe tbody tr th {\n",
       "        vertical-align: top;\n",
       "    }\n",
       "\n",
       "    .dataframe thead th {\n",
       "        text-align: right;\n",
       "    }\n",
       "</style>\n",
       "<table border=\"1\" class=\"dataframe\">\n",
       "  <thead>\n",
       "    <tr style=\"text-align: right;\">\n",
       "      <th></th>\n",
       "      <th>unique</th>\n",
       "    </tr>\n",
       "  </thead>\n",
       "  <tbody>\n",
       "    <tr>\n",
       "      <th>Model</th>\n",
       "      <td>11563</td>\n",
       "    </tr>\n",
       "    <tr>\n",
       "      <th>Make</th>\n",
       "      <td>7552</td>\n",
       "    </tr>\n",
       "    <tr>\n",
       "      <th>Investigation Type</th>\n",
       "      <td>2</td>\n",
       "    </tr>\n",
       "  </tbody>\n",
       "</table>\n",
       "</div>"
      ],
      "text/plain": [
       "                    unique\n",
       "Model                11563\n",
       "Make                  7552\n",
       "Investigation Type       2"
      ]
     },
     "execution_count": 69,
     "metadata": {},
     "output_type": "execute_result"
    }
   ],
   "source": [
    "# Unique counts for key categoricals (no NaN/blank cols needed)\n",
    "cols = [\"Make\", \"Model\", \"Investigation Type\"]\n",
    "cat_overview = pd.DataFrame(\n",
    "    {\"unique\": [df[c].nunique(dropna=True) for c in cols]},\n",
    "    index=cols\n",
    ").sort_values(\"unique\", ascending=False)\n",
    "cat_overview"
   ]
  },
  {
   "cell_type": "code",
   "execution_count": 70,
   "id": "522fe8fa",
   "metadata": {},
   "outputs": [
    {
     "name": "stdout",
     "output_type": "stream",
     "text": [
      "Number Of Engines → min=0, max=8\n"
     ]
    }
   ],
   "source": [
    "# Engine/aircraft fields are realistic\n",
    "# expect small integers, 0 is for without engine (engine-less aircraft)\n",
    "mn = df[\"Number Of Engines\"].min()\n",
    "mx = df[\"Number Of Engines\"].max()\n",
    "print(f\"Number Of Engines → min={mn}, max={mx}\")"
   ]
  },
  {
   "cell_type": "code",
   "execution_count": 71,
   "id": "70dd2e7a",
   "metadata": {},
   "outputs": [
    {
     "name": "stdout",
     "output_type": "stream",
     "text": [
      "     Engine Type  Count\n",
      "   reciprocating  72940\n",
      "      turbo prop   5357\n",
      "     turbo shaft   4283\n",
      "       turbo fan   2765\n",
      "  without engine   1504\n",
      "       turbo jet    790\n",
      "         4 cycle    179\n",
      "        electric     62\n",
      "         2 cycle     54\n",
      " geared turbofan     12\n"
     ]
    }
   ],
   "source": [
    "# Engine Type table\n",
    "eng_type_tbl = df[\"Engine Type\"].value_counts().reset_index()\n",
    "eng_type_tbl.columns = [\"Engine Type\", \"Count\"]\n",
    "print(eng_type_tbl.head(10).to_string(index=False))"
   ]
  },
  {
   "cell_type": "code",
   "execution_count": 72,
   "id": "22c6cfa0",
   "metadata": {},
   "outputs": [
    {
     "name": "stdout",
     "output_type": "stream",
     "text": [
      "        Aircraft Category  Count\n",
      " fixed wing single engine  30655\n",
      "                 airplane  27756\n",
      "     weight-shift-control  10770\n",
      "  fixed wing multi engine   5828\n",
      "               rotorcraft   4008\n",
      "               helicopter   3552\n",
      "        powered parachute   2853\n",
      "                   glider    879\n",
      "                  balloon    764\n",
      "                gyroplane    494\n"
     ]
    }
   ],
   "source": [
    "# Aircraft Category table\n",
    "cat_tbl = df[\"Aircraft Category\"].value_counts().reset_index()\n",
    "cat_tbl.columns = [\"Aircraft Category\", \"Count\"]\n",
    "print(cat_tbl.head(10).to_string(index=False))"
   ]
  },
  {
   "cell_type": "code",
   "execution_count": 73,
   "id": "c2774e93",
   "metadata": {},
   "outputs": [
    {
     "data": {
      "text/plain": [
       "[]"
      ]
     },
     "execution_count": 73,
     "metadata": {},
     "output_type": "execute_result"
    }
   ],
   "source": [
    "# check for injuries (negative counts should not happen)\n",
    "injury_cols = [\"Total Fatal Injuries\", \"Total Serious Injuries\",\n",
    "               \"Total Minor Injuries\", \"Total Uninjured\"]\n",
    "\n",
    "\n",
    "# list of columns with any negatives\n",
    "cols_with_neg = [c for c in injury_cols\n",
    "                 if c in df.columns and (pd.to_numeric(df[c], errors=\"coerce\") < 0).any()]\n",
    "cols_with_neg"
   ]
  },
  {
   "cell_type": "markdown",
   "id": "00748e1b",
   "metadata": {},
   "source": [
    "### 3. Data Cleaning and Preparation"
   ]
  },
  {
   "cell_type": "code",
   "execution_count": null,
   "id": "98a0165c",
   "metadata": {},
   "outputs": [
    {
     "data": {
      "text/plain": [
       "Total Fatal Injuries      int64\n",
       "Total Serious Injuries    int64\n",
       "Total Minor Injuries      int64\n",
       "Total Uninjured           int64\n",
       "Number Of Engines         int64\n",
       "dtype: object"
      ]
     },
     "execution_count": 76,
     "metadata": {},
     "output_type": "execute_result"
    }
   ],
   "source": [
    "# Confirm Key numeric fields are numeric\n",
    "df[[\"Total Fatal Injuries\",\"Total Serious Injuries\",\"Total Minor Injuries\",\"Total Uninjured\",\"Number Of Engines\"]].dtypes"
   ]
  },
  {
   "cell_type": "code",
   "execution_count": 77,
   "id": "00cddad0",
   "metadata": {},
   "outputs": [
    {
     "name": "stdout",
     "output_type": "stream",
     "text": [
      "event_date range: 1948-10-24 00:00:00 → 2022-12-29 00:00:00\n",
      "recent_flag count: 21274\n"
     ]
    }
   ],
   "source": [
    "# We already have clean numeric parts: Event Year / Month / Day.\n",
    "# combine them into one real datetime column for easy filtering/sorting/plotting,\n",
    "# and add a simple flag to quickly focus on modern events.\n",
    "\n",
    "# Build a proper pandas datetime from the separate parts\n",
    "df[\"event_date\"] = pd.to_datetime({\n",
    "    \"year\":  df[\"Event Year\"],  \n",
    "    \"month\": df[\"Event Month\"],  \n",
    "    \"day\":   df[\"Event Day\"]    \n",
    "})\n",
    "\n",
    "# Create a True/False flag for \"recent\" events (>= 2010)\n",
    "# This is just a convenience so you can quickly subset: df_recent = df[df[\"recent_flag\"]]\n",
    "df[\"recent_flag\"] = df[\"event_date\"].dt.year >= 2010\n",
    "\n",
    "# earliest and latest dates, and how many are recent\n",
    "print(\"event_date range:\", df[\"event_date\"].min(), \"→\", df[\"event_date\"].max())\n",
    "print(\"recent_flag count:\", df[\"recent_flag\"].sum())"
   ]
  },
  {
   "cell_type": "code",
   "execution_count": 81,
   "id": "a619c1e5",
   "metadata": {},
   "outputs": [],
   "source": [
    "# Tidy column headers: lowercase + remove extra spaces + replace inner spaces with underscores\n",
    "df.columns = [col.strip().lower().replace(' ', '_') for col in df.columns]"
   ]
  },
  {
   "cell_type": "code",
   "execution_count": null,
   "id": "cbe96d02",
   "metadata": {},
   "outputs": [
    {
     "name": "stdout",
     "output_type": "stream",
     "text": [
      "Shape: (87951, 47)\n",
      "City missing: 12\n"
     ]
    }
   ],
   "source": [
    "print(\"Shape:\", df.shape)                 \n",
    "print(\"City missing:\", df[\"city\"].isna().sum())  "
   ]
  },
  {
   "cell_type": "code",
   "execution_count": 86,
   "id": "504437f2",
   "metadata": {},
   "outputs": [
    {
     "data": {
      "text/plain": [
       "(87939, 47)"
      ]
     },
     "execution_count": 86,
     "metadata": {},
     "output_type": "execute_result"
    }
   ],
   "source": [
    "# Drop rows with missing city (12 rows)\n",
    "\n",
    "# Drop only rows where 'city' is NaN\n",
    "# We do this because 'city' isn't critical for our analysis.\n",
    "df = df.dropna(subset=[\"city\"])\n",
    "df.shape\n"
   ]
  },
  {
   "cell_type": "markdown",
   "id": "11b61161",
   "metadata": {},
   "source": [
    "### 4. Feature Engineering\n",
    "\n",
    "\n",
    "Here we create new variables from the raw NTSB data to capture safety risk more clearly. This includes calculating severity metrics such as fatal or serious-injury rates and a weighted severity index, adding operational flags for commercial versus non-commercial flights and engine types, and generating time-based fields like yearly accident counts and seasonal categories to reveal trends and patterns.\n"
   ]
  },
  {
   "cell_type": "code",
   "execution_count": null,
   "id": "c90b066b",
   "metadata": {},
   "outputs": [],
   "source": [
    "# 1. Severity metrics\n",
    "\n",
    "# Define the columns we'll use\n",
    "COL_MAKE   = \"Make\"\n",
    "COL_MODEL  = \"Model\"\n",
    "COL_FATAL  = \"Total Fatal Injuries\"\n",
    "COL_SER    = \"Total Serious Injuries\"\n",
    "COL_MINOR  = \"Total Minor Injuries\"\n"
   ]
  },
  {
   "cell_type": "code",
   "execution_count": 88,
   "id": "21d3331c",
   "metadata": {},
   "outputs": [
    {
     "ename": "KeyError",
     "evalue": "'Total Fatal Injuries'",
     "output_type": "error",
     "traceback": [
      "\u001b[1;31m---------------------------------------------------------------------------\u001b[0m",
      "\u001b[1;31mKeyError\u001b[0m                                  Traceback (most recent call last)",
      "\u001b[1;32mc:\\Users\\Jasho\\anaconda3\\envs\\learn-env\\lib\\site-packages\\pandas\\core\\indexes\\base.py\u001b[0m in \u001b[0;36mget_loc\u001b[1;34m(self, key, method, tolerance)\u001b[0m\n\u001b[0;32m   2894\u001b[0m             \u001b[1;32mtry\u001b[0m\u001b[1;33m:\u001b[0m\u001b[1;33m\u001b[0m\u001b[1;33m\u001b[0m\u001b[0m\n\u001b[1;32m-> 2895\u001b[1;33m                 \u001b[1;32mreturn\u001b[0m \u001b[0mself\u001b[0m\u001b[1;33m.\u001b[0m\u001b[0m_engine\u001b[0m\u001b[1;33m.\u001b[0m\u001b[0mget_loc\u001b[0m\u001b[1;33m(\u001b[0m\u001b[0mcasted_key\u001b[0m\u001b[1;33m)\u001b[0m\u001b[1;33m\u001b[0m\u001b[1;33m\u001b[0m\u001b[0m\n\u001b[0m\u001b[0;32m   2896\u001b[0m             \u001b[1;32mexcept\u001b[0m \u001b[0mKeyError\u001b[0m \u001b[1;32mas\u001b[0m \u001b[0merr\u001b[0m\u001b[1;33m:\u001b[0m\u001b[1;33m\u001b[0m\u001b[1;33m\u001b[0m\u001b[0m\n",
      "\u001b[1;32mpandas\\_libs\\index.pyx\u001b[0m in \u001b[0;36mpandas._libs.index.IndexEngine.get_loc\u001b[1;34m()\u001b[0m\n",
      "\u001b[1;32mpandas\\_libs\\index.pyx\u001b[0m in \u001b[0;36mpandas._libs.index.IndexEngine.get_loc\u001b[1;34m()\u001b[0m\n",
      "\u001b[1;32mpandas\\_libs\\hashtable_class_helper.pxi\u001b[0m in \u001b[0;36mpandas._libs.hashtable.PyObjectHashTable.get_item\u001b[1;34m()\u001b[0m\n",
      "\u001b[1;32mpandas\\_libs\\hashtable_class_helper.pxi\u001b[0m in \u001b[0;36mpandas._libs.hashtable.PyObjectHashTable.get_item\u001b[1;34m()\u001b[0m\n",
      "\u001b[1;31mKeyError\u001b[0m: 'Total Fatal Injuries'",
      "\nThe above exception was the direct cause of the following exception:\n",
      "\u001b[1;31mKeyError\u001b[0m                                  Traceback (most recent call last)",
      "\u001b[1;32m<ipython-input-88-0e90b32a93ee>\u001b[0m in \u001b[0;36m<module>\u001b[1;34m\u001b[0m\n\u001b[0;32m      5\u001b[0m \u001b[1;31m#  - everity_index: 5*fatal + 3*serious + 1*minor (a simple severity score)\u001b[0m\u001b[1;33m\u001b[0m\u001b[1;33m\u001b[0m\u001b[1;33m\u001b[0m\u001b[0m\n\u001b[0;32m      6\u001b[0m \u001b[1;33m\u001b[0m\u001b[0m\n\u001b[1;32m----> 7\u001b[1;33m \u001b[0mfatal\u001b[0m  \u001b[1;33m=\u001b[0m \u001b[0mpd\u001b[0m\u001b[1;33m.\u001b[0m\u001b[0mto_numeric\u001b[0m\u001b[1;33m(\u001b[0m\u001b[0mdf\u001b[0m\u001b[1;33m[\u001b[0m\u001b[0mCOL_FATAL\u001b[0m\u001b[1;33m]\u001b[0m\u001b[1;33m,\u001b[0m \u001b[0merrors\u001b[0m\u001b[1;33m=\u001b[0m\u001b[1;34m\"coerce\"\u001b[0m\u001b[1;33m)\u001b[0m\u001b[1;33m.\u001b[0m\u001b[0mfillna\u001b[0m\u001b[1;33m(\u001b[0m\u001b[1;36m0\u001b[0m\u001b[1;33m)\u001b[0m\u001b[1;33m\u001b[0m\u001b[1;33m\u001b[0m\u001b[0m\n\u001b[0m\u001b[0;32m      8\u001b[0m \u001b[0mser\u001b[0m    \u001b[1;33m=\u001b[0m \u001b[0mpd\u001b[0m\u001b[1;33m.\u001b[0m\u001b[0mto_numeric\u001b[0m\u001b[1;33m(\u001b[0m\u001b[0mdf\u001b[0m\u001b[1;33m[\u001b[0m\u001b[0mCOL_SER\u001b[0m\u001b[1;33m]\u001b[0m\u001b[1;33m,\u001b[0m   \u001b[0merrors\u001b[0m\u001b[1;33m=\u001b[0m\u001b[1;34m\"coerce\"\u001b[0m\u001b[1;33m)\u001b[0m\u001b[1;33m.\u001b[0m\u001b[0mfillna\u001b[0m\u001b[1;33m(\u001b[0m\u001b[1;36m0\u001b[0m\u001b[1;33m)\u001b[0m\u001b[1;33m\u001b[0m\u001b[1;33m\u001b[0m\u001b[0m\n\u001b[0;32m      9\u001b[0m \u001b[0mminor\u001b[0m  \u001b[1;33m=\u001b[0m \u001b[0mpd\u001b[0m\u001b[1;33m.\u001b[0m\u001b[0mto_numeric\u001b[0m\u001b[1;33m(\u001b[0m\u001b[0mdf\u001b[0m\u001b[1;33m[\u001b[0m\u001b[0mCOL_MINOR\u001b[0m\u001b[1;33m]\u001b[0m\u001b[1;33m,\u001b[0m \u001b[0merrors\u001b[0m\u001b[1;33m=\u001b[0m\u001b[1;34m\"coerce\"\u001b[0m\u001b[1;33m)\u001b[0m\u001b[1;33m.\u001b[0m\u001b[0mfillna\u001b[0m\u001b[1;33m(\u001b[0m\u001b[1;36m0\u001b[0m\u001b[1;33m)\u001b[0m\u001b[1;33m\u001b[0m\u001b[1;33m\u001b[0m\u001b[0m\n",
      "\u001b[1;32mc:\\Users\\Jasho\\anaconda3\\envs\\learn-env\\lib\\site-packages\\pandas\\core\\frame.py\u001b[0m in \u001b[0;36m__getitem__\u001b[1;34m(self, key)\u001b[0m\n\u001b[0;32m   2900\u001b[0m             \u001b[1;32mif\u001b[0m \u001b[0mself\u001b[0m\u001b[1;33m.\u001b[0m\u001b[0mcolumns\u001b[0m\u001b[1;33m.\u001b[0m\u001b[0mnlevels\u001b[0m \u001b[1;33m>\u001b[0m \u001b[1;36m1\u001b[0m\u001b[1;33m:\u001b[0m\u001b[1;33m\u001b[0m\u001b[1;33m\u001b[0m\u001b[0m\n\u001b[0;32m   2901\u001b[0m                 \u001b[1;32mreturn\u001b[0m \u001b[0mself\u001b[0m\u001b[1;33m.\u001b[0m\u001b[0m_getitem_multilevel\u001b[0m\u001b[1;33m(\u001b[0m\u001b[0mkey\u001b[0m\u001b[1;33m)\u001b[0m\u001b[1;33m\u001b[0m\u001b[1;33m\u001b[0m\u001b[0m\n\u001b[1;32m-> 2902\u001b[1;33m             \u001b[0mindexer\u001b[0m \u001b[1;33m=\u001b[0m \u001b[0mself\u001b[0m\u001b[1;33m.\u001b[0m\u001b[0mcolumns\u001b[0m\u001b[1;33m.\u001b[0m\u001b[0mget_loc\u001b[0m\u001b[1;33m(\u001b[0m\u001b[0mkey\u001b[0m\u001b[1;33m)\u001b[0m\u001b[1;33m\u001b[0m\u001b[1;33m\u001b[0m\u001b[0m\n\u001b[0m\u001b[0;32m   2903\u001b[0m             \u001b[1;32mif\u001b[0m \u001b[0mis_integer\u001b[0m\u001b[1;33m(\u001b[0m\u001b[0mindexer\u001b[0m\u001b[1;33m)\u001b[0m\u001b[1;33m:\u001b[0m\u001b[1;33m\u001b[0m\u001b[1;33m\u001b[0m\u001b[0m\n\u001b[0;32m   2904\u001b[0m                 \u001b[0mindexer\u001b[0m \u001b[1;33m=\u001b[0m \u001b[1;33m[\u001b[0m\u001b[0mindexer\u001b[0m\u001b[1;33m]\u001b[0m\u001b[1;33m\u001b[0m\u001b[1;33m\u001b[0m\u001b[0m\n",
      "\u001b[1;32mc:\\Users\\Jasho\\anaconda3\\envs\\learn-env\\lib\\site-packages\\pandas\\core\\indexes\\base.py\u001b[0m in \u001b[0;36mget_loc\u001b[1;34m(self, key, method, tolerance)\u001b[0m\n\u001b[0;32m   2895\u001b[0m                 \u001b[1;32mreturn\u001b[0m \u001b[0mself\u001b[0m\u001b[1;33m.\u001b[0m\u001b[0m_engine\u001b[0m\u001b[1;33m.\u001b[0m\u001b[0mget_loc\u001b[0m\u001b[1;33m(\u001b[0m\u001b[0mcasted_key\u001b[0m\u001b[1;33m)\u001b[0m\u001b[1;33m\u001b[0m\u001b[1;33m\u001b[0m\u001b[0m\n\u001b[0;32m   2896\u001b[0m             \u001b[1;32mexcept\u001b[0m \u001b[0mKeyError\u001b[0m \u001b[1;32mas\u001b[0m \u001b[0merr\u001b[0m\u001b[1;33m:\u001b[0m\u001b[1;33m\u001b[0m\u001b[1;33m\u001b[0m\u001b[0m\n\u001b[1;32m-> 2897\u001b[1;33m                 \u001b[1;32mraise\u001b[0m \u001b[0mKeyError\u001b[0m\u001b[1;33m(\u001b[0m\u001b[0mkey\u001b[0m\u001b[1;33m)\u001b[0m \u001b[1;32mfrom\u001b[0m \u001b[0merr\u001b[0m\u001b[1;33m\u001b[0m\u001b[1;33m\u001b[0m\u001b[0m\n\u001b[0m\u001b[0;32m   2898\u001b[0m \u001b[1;33m\u001b[0m\u001b[0m\n\u001b[0;32m   2899\u001b[0m         \u001b[1;32mif\u001b[0m \u001b[0mtolerance\u001b[0m \u001b[1;32mis\u001b[0m \u001b[1;32mnot\u001b[0m \u001b[1;32mNone\u001b[0m\u001b[1;33m:\u001b[0m\u001b[1;33m\u001b[0m\u001b[1;33m\u001b[0m\u001b[0m\n",
      "\u001b[1;31mKeyError\u001b[0m: 'Total Fatal Injuries'"
     ]
    }
   ],
   "source": [
    "# Per-event flags and a weighted severity index\n",
    "#  - is_fatal: at least 1 fatal injury in the event\n",
    "#  - is_serious: at least 1 serious injury in the event\n",
    "#  - is_severe: serious OR fatal (used for \"severe rate\")\n",
    "#  - everity_index: 5*fatal + 3*serious + 1*minor (a simple severity score)\n",
    "\n",
    "fatal  = pd.to_numeric(df[COL_FATAL], errors=\"coerce\").fillna(0)\n",
    "ser    = pd.to_numeric(df[COL_SER],   errors=\"coerce\").fillna(0)\n",
    "minor  = pd.to_numeric(df[COL_MINOR], errors=\"coerce\").fillna(0)\n",
    "\n",
    "df[\"is_fatal\"]   = fatal  > 0\n",
    "df[\"is_serious\"] = ser    > 0\n",
    "df[\"is_severe\"]  = df[\"is_fatal\"] | df[\"is_serious\"]\n",
    "df[\"severity_index\"] = 5*fatal + 3*ser + 1*minor\n"
   ]
  }
 ],
 "metadata": {
  "kernelspec": {
   "display_name": "learn-env",
   "language": "python",
   "name": "python3"
  },
  "language_info": {
   "codemirror_mode": {
    "name": "ipython",
    "version": 3
   },
   "file_extension": ".py",
   "mimetype": "text/x-python",
   "name": "python",
   "nbconvert_exporter": "python",
   "pygments_lexer": "ipython3",
   "version": "3.8.5"
  }
 },
 "nbformat": 4,
 "nbformat_minor": 5
}
