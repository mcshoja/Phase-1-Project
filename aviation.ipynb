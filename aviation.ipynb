{
 "cells": [
  {
   "cell_type": "markdown",
   "id": "c6a41d13",
   "metadata": {},
   "source": [
    "# Aviation Risk Analysis: Identifying the Safest Aircraft Models"
   ]
  },
  {
   "cell_type": "markdown",
   "id": "44dffa90",
   "metadata": {},
   "source": [
    "## Project Overview\n",
    "The company is exploring a new business venture: purchasing and operating aircraft for both commercial and private services. Before making such a significant investment, leadership needs to understand which aircraft models present the lowest operational risk. This project uses historical accident data from the U.S. National Transportation Safety Board (NTSB) to identify the safest aircraft types and provide clear, evidence-based recommendations. The analysis focuses on real-world aviation accident records from 1962 through 2023."
   ]
  },
  {
   "cell_type": "markdown",
   "id": "33f5447b",
   "metadata": {},
   "source": [
    "## Business Understanding\n",
    "The key stakeholder is the head of the new Aviation Division. Their central question is: **Which aircraft models are the safest to acquire and operate?** To answer this, we will clean and explore the NTSB accident dataset, calculate risk metrics such as fatal- or serious-injury rates, and evaluate how different aircraft characteristics, flight conditions, and operational factors contribute to accident severity. The end result will be a set of actionable insights, backed by data, that guide purchase decisions and reduce safety risks."
   ]
  },
  {
   "cell_type": "markdown",
   "id": "06316faa",
   "metadata": {},
   "source": [
    "## Project Objectives\n",
    "* Identify the aircraft makes and models with the lowest accident and fatal-injury rates in the NTSB dataset from 1962–2023.\n",
    "* Analyze how factors such as number of engines, flight purpose, weather conditions, and phase of flight affect accident severity.\n",
    "* Provide clear, data-backed recommendations to guide the company’s aircraft purchase and operational decisions."
   ]
  },
  {
   "cell_type": "markdown",
   "id": "050ab390",
   "metadata": {},
   "source": [
    "### 1. Data Acquisition & Loading"
   ]
  },
  {
   "cell_type": "code",
   "execution_count": 89,
   "id": "d30a7a6c",
   "metadata": {},
   "outputs": [],
   "source": [
    "# Import Liabraries\n",
    "import pandas as pd\n",
    "import numpy as np\n",
    "import matplotlib.pyplot as plt\n",
    "import seaborn as sns"
   ]
  },
  {
   "cell_type": "code",
   "execution_count": 90,
   "id": "84943e92",
   "metadata": {},
   "outputs": [
    {
     "data": {
      "text/html": [
       "<div>\n",
       "<style scoped>\n",
       "    .dataframe tbody tr th:only-of-type {\n",
       "        vertical-align: middle;\n",
       "    }\n",
       "\n",
       "    .dataframe tbody tr th {\n",
       "        vertical-align: top;\n",
       "    }\n",
       "\n",
       "    .dataframe thead th {\n",
       "        text-align: right;\n",
       "    }\n",
       "</style>\n",
       "<table border=\"1\" class=\"dataframe\">\n",
       "  <thead>\n",
       "    <tr style=\"text-align: right;\">\n",
       "      <th></th>\n",
       "      <th>Event Id</th>\n",
       "      <th>Investigation Type</th>\n",
       "      <th>Country</th>\n",
       "      <th>Aircraft Damage</th>\n",
       "      <th>Aircraft Category</th>\n",
       "      <th>Make</th>\n",
       "      <th>Model</th>\n",
       "      <th>Amateur Built</th>\n",
       "      <th>Number Of Engines</th>\n",
       "      <th>Engine Type</th>\n",
       "      <th>...</th>\n",
       "      <th>Event Year</th>\n",
       "      <th>Publication Year</th>\n",
       "      <th>Event Month</th>\n",
       "      <th>Publication Month</th>\n",
       "      <th>Event Day</th>\n",
       "      <th>Publication Day</th>\n",
       "      <th>Date Difference</th>\n",
       "      <th>Publication Month Name</th>\n",
       "      <th>Event Month Name</th>\n",
       "      <th>Season</th>\n",
       "    </tr>\n",
       "  </thead>\n",
       "  <tbody>\n",
       "    <tr>\n",
       "      <th>0</th>\n",
       "      <td>20001218X45444</td>\n",
       "      <td>Accident</td>\n",
       "      <td>United States</td>\n",
       "      <td>Destroyed</td>\n",
       "      <td>fixed wing single engine</td>\n",
       "      <td>stinson</td>\n",
       "      <td>108-3</td>\n",
       "      <td>No</td>\n",
       "      <td>1</td>\n",
       "      <td>reciprocating</td>\n",
       "      <td>...</td>\n",
       "      <td>1948</td>\n",
       "      <td>2001</td>\n",
       "      <td>10</td>\n",
       "      <td>8</td>\n",
       "      <td>24</td>\n",
       "      <td>24.0</td>\n",
       "      <td>26</td>\n",
       "      <td>August</td>\n",
       "      <td>October</td>\n",
       "      <td>Fall</td>\n",
       "    </tr>\n",
       "    <tr>\n",
       "      <th>1</th>\n",
       "      <td>20001218X45447</td>\n",
       "      <td>Accident</td>\n",
       "      <td>United States</td>\n",
       "      <td>Destroyed</td>\n",
       "      <td>weight-shift-control</td>\n",
       "      <td>piper</td>\n",
       "      <td>pa24-180</td>\n",
       "      <td>No</td>\n",
       "      <td>1</td>\n",
       "      <td>reciprocating</td>\n",
       "      <td>...</td>\n",
       "      <td>1962</td>\n",
       "      <td>1996</td>\n",
       "      <td>7</td>\n",
       "      <td>9</td>\n",
       "      <td>19</td>\n",
       "      <td>19.0</td>\n",
       "      <td>34</td>\n",
       "      <td>September</td>\n",
       "      <td>July</td>\n",
       "      <td>Summer</td>\n",
       "    </tr>\n",
       "    <tr>\n",
       "      <th>2</th>\n",
       "      <td>20061025X01555</td>\n",
       "      <td>Accident</td>\n",
       "      <td>United States</td>\n",
       "      <td>Destroyed</td>\n",
       "      <td>fixed wing single engine</td>\n",
       "      <td>cessna</td>\n",
       "      <td>172m</td>\n",
       "      <td>No</td>\n",
       "      <td>1</td>\n",
       "      <td>reciprocating</td>\n",
       "      <td>...</td>\n",
       "      <td>1974</td>\n",
       "      <td>2007</td>\n",
       "      <td>8</td>\n",
       "      <td>2</td>\n",
       "      <td>30</td>\n",
       "      <td>30.0</td>\n",
       "      <td>33</td>\n",
       "      <td>February</td>\n",
       "      <td>August</td>\n",
       "      <td>Summer</td>\n",
       "    </tr>\n",
       "    <tr>\n",
       "      <th>3</th>\n",
       "      <td>20001218X45448</td>\n",
       "      <td>Accident</td>\n",
       "      <td>United States</td>\n",
       "      <td>Destroyed</td>\n",
       "      <td>weight-shift-control</td>\n",
       "      <td>rockwell</td>\n",
       "      <td>112</td>\n",
       "      <td>No</td>\n",
       "      <td>1</td>\n",
       "      <td>reciprocating</td>\n",
       "      <td>...</td>\n",
       "      <td>1977</td>\n",
       "      <td>2000</td>\n",
       "      <td>6</td>\n",
       "      <td>12</td>\n",
       "      <td>19</td>\n",
       "      <td>19.0</td>\n",
       "      <td>23</td>\n",
       "      <td>December</td>\n",
       "      <td>June</td>\n",
       "      <td>Summer</td>\n",
       "    </tr>\n",
       "    <tr>\n",
       "      <th>4</th>\n",
       "      <td>20041105X01764</td>\n",
       "      <td>Accident</td>\n",
       "      <td>United States</td>\n",
       "      <td>Destroyed</td>\n",
       "      <td>fixed wing multi engine</td>\n",
       "      <td>cessna</td>\n",
       "      <td>501</td>\n",
       "      <td>No</td>\n",
       "      <td>2</td>\n",
       "      <td>turbo fan</td>\n",
       "      <td>...</td>\n",
       "      <td>1979</td>\n",
       "      <td>1980</td>\n",
       "      <td>8</td>\n",
       "      <td>4</td>\n",
       "      <td>2</td>\n",
       "      <td>2.0</td>\n",
       "      <td>1</td>\n",
       "      <td>April</td>\n",
       "      <td>August</td>\n",
       "      <td>Summer</td>\n",
       "    </tr>\n",
       "  </tbody>\n",
       "</table>\n",
       "<p>5 rows × 45 columns</p>\n",
       "</div>"
      ],
      "text/plain": [
       "         Event Id Investigation Type        Country Aircraft Damage  \\\n",
       "0  20001218X45444           Accident  United States       Destroyed   \n",
       "1  20001218X45447           Accident  United States       Destroyed   \n",
       "2  20061025X01555           Accident  United States       Destroyed   \n",
       "3  20001218X45448           Accident  United States       Destroyed   \n",
       "4  20041105X01764           Accident  United States       Destroyed   \n",
       "\n",
       "          Aircraft Category      Make     Model Amateur Built  \\\n",
       "0  fixed wing single engine   stinson     108-3            No   \n",
       "1      weight-shift-control     piper  pa24-180            No   \n",
       "2  fixed wing single engine    cessna      172m            No   \n",
       "3      weight-shift-control  rockwell       112            No   \n",
       "4   fixed wing multi engine    cessna       501            No   \n",
       "\n",
       "   Number Of Engines    Engine Type  ... Event Year Publication Year  \\\n",
       "0                  1  reciprocating  ...       1948             2001   \n",
       "1                  1  reciprocating  ...       1962             1996   \n",
       "2                  1  reciprocating  ...       1974             2007   \n",
       "3                  1  reciprocating  ...       1977             2000   \n",
       "4                  2      turbo fan  ...       1979             1980   \n",
       "\n",
       "  Event Month  Publication Month  Event Day  Publication Day  Date Difference  \\\n",
       "0          10                  8         24             24.0               26   \n",
       "1           7                  9         19             19.0               34   \n",
       "2           8                  2         30             30.0               33   \n",
       "3           6                 12         19             19.0               23   \n",
       "4           8                  4          2              2.0                1   \n",
       "\n",
       "  Publication Month Name Event Month Name  Season  \n",
       "0                 August          October    Fall  \n",
       "1              September             July  Summer  \n",
       "2               February           August  Summer  \n",
       "3               December             June  Summer  \n",
       "4                  April           August  Summer  \n",
       "\n",
       "[5 rows x 45 columns]"
      ]
     },
     "execution_count": 90,
     "metadata": {},
     "output_type": "execute_result"
    }
   ],
   "source": [
    "# Load Dataset\n",
    "df = pd.read_csv('./NTSB_database.csv')\n",
    "df.head()"
   ]
  },
  {
   "cell_type": "code",
   "execution_count": 91,
   "id": "fb22695c",
   "metadata": {},
   "outputs": [
    {
     "data": {
      "text/plain": [
       "(87951, 45)"
      ]
     },
     "execution_count": 91,
     "metadata": {},
     "output_type": "execute_result"
    }
   ],
   "source": [
    "# Initial Checks\n",
    "df.shape"
   ]
  },
  {
   "cell_type": "code",
   "execution_count": 92,
   "id": "55b3c118",
   "metadata": {},
   "outputs": [
    {
     "name": "stdout",
     "output_type": "stream",
     "text": [
      "<class 'pandas.core.frame.DataFrame'>\n",
      "RangeIndex: 87951 entries, 0 to 87950\n",
      "Data columns (total 45 columns):\n",
      " #   Column                        Non-Null Count  Dtype  \n",
      "---  ------                        --------------  -----  \n",
      " 0   Event Id                      87951 non-null  object \n",
      " 1   Investigation Type            87951 non-null  object \n",
      " 2   Country                       87951 non-null  object \n",
      " 3   Aircraft Damage               87951 non-null  object \n",
      " 4   Aircraft Category             87951 non-null  object \n",
      " 5   Make                          87951 non-null  object \n",
      " 6   Model                         87951 non-null  object \n",
      " 7   Amateur Built                 87951 non-null  object \n",
      " 8   Number Of Engines             87951 non-null  int64  \n",
      " 9   Engine Type                   87951 non-null  object \n",
      " 10  Far Description               87951 non-null  object \n",
      " 11  Schedule                      87951 non-null  object \n",
      " 12  Purpose Of Flight             87951 non-null  object \n",
      " 13  Total Fatal Injuries          87951 non-null  int64  \n",
      " 14  Total Serious Injuries        87951 non-null  int64  \n",
      " 15  Total Minor Injuries          87951 non-null  int64  \n",
      " 16  Total Uninjured               87951 non-null  int64  \n",
      " 17  Weather Condition             87951 non-null  object \n",
      " 18  Broad Phase Of Flight         87951 non-null  object \n",
      " 19  Analysis                      87951 non-null  object \n",
      " 20  City                          87939 non-null  object \n",
      " 21  Longitude                     87951 non-null  float64\n",
      " 22  Latitude                      87951 non-null  float64\n",
      " 23  Address                       87951 non-null  object \n",
      " 24  geometry                      87951 non-null  object \n",
      " 25  Place                         87951 non-null  object \n",
      " 26  Number Of Seats               87951 non-null  int64  \n",
      " 27  Type Aircraft                 87951 non-null  int64  \n",
      " 28  Type Engine                   87951 non-null  int64  \n",
      " 29  Total Person                  87951 non-null  int64  \n",
      " 30  Far Description Factorized    87951 non-null  int64  \n",
      " 31  Schedule Factorized           87951 non-null  int64  \n",
      " 32  Purpose Of Flight Factorized  87951 non-null  int64  \n",
      " 33  Make Factorized               87951 non-null  int64  \n",
      " 34  Model Factorized              87951 non-null  int64  \n",
      " 35  Event Year                    87951 non-null  int64  \n",
      " 36  Publication Year              87951 non-null  int64  \n",
      " 37  Event Month                   87951 non-null  int64  \n",
      " 38  Publication Month             87951 non-null  int64  \n",
      " 39  Event Day                     87951 non-null  int64  \n",
      " 40  Publication Day               87951 non-null  float64\n",
      " 41  Date Difference               87951 non-null  int64  \n",
      " 42  Publication Month Name        87951 non-null  object \n",
      " 43  Event Month Name              87951 non-null  object \n",
      " 44  Season                        87951 non-null  object \n",
      "dtypes: float64(3), int64(20), object(22)\n",
      "memory usage: 30.2+ MB\n"
     ]
    }
   ],
   "source": [
    "df.info()"
   ]
  },
  {
   "cell_type": "code",
   "execution_count": 93,
   "id": "9a8d62d8",
   "metadata": {},
   "outputs": [
    {
     "data": {
      "text/html": [
       "<div>\n",
       "<style scoped>\n",
       "    .dataframe tbody tr th:only-of-type {\n",
       "        vertical-align: middle;\n",
       "    }\n",
       "\n",
       "    .dataframe tbody tr th {\n",
       "        vertical-align: top;\n",
       "    }\n",
       "\n",
       "    .dataframe thead th {\n",
       "        text-align: right;\n",
       "    }\n",
       "</style>\n",
       "<table border=\"1\" class=\"dataframe\">\n",
       "  <thead>\n",
       "    <tr style=\"text-align: right;\">\n",
       "      <th></th>\n",
       "      <th>Number Of Engines</th>\n",
       "      <th>Total Fatal Injuries</th>\n",
       "      <th>Total Serious Injuries</th>\n",
       "      <th>Total Minor Injuries</th>\n",
       "      <th>Total Uninjured</th>\n",
       "      <th>Longitude</th>\n",
       "      <th>Latitude</th>\n",
       "      <th>Number Of Seats</th>\n",
       "      <th>Type Aircraft</th>\n",
       "      <th>Type Engine</th>\n",
       "      <th>...</th>\n",
       "      <th>Purpose Of Flight Factorized</th>\n",
       "      <th>Make Factorized</th>\n",
       "      <th>Model Factorized</th>\n",
       "      <th>Event Year</th>\n",
       "      <th>Publication Year</th>\n",
       "      <th>Event Month</th>\n",
       "      <th>Publication Month</th>\n",
       "      <th>Event Day</th>\n",
       "      <th>Publication Day</th>\n",
       "      <th>Date Difference</th>\n",
       "    </tr>\n",
       "  </thead>\n",
       "  <tbody>\n",
       "    <tr>\n",
       "      <th>count</th>\n",
       "      <td>87951.000000</td>\n",
       "      <td>87951.000000</td>\n",
       "      <td>87951.000000</td>\n",
       "      <td>87951.000000</td>\n",
       "      <td>87951.000000</td>\n",
       "      <td>87951.000000</td>\n",
       "      <td>87951.000000</td>\n",
       "      <td>87951.000000</td>\n",
       "      <td>87951.000000</td>\n",
       "      <td>87951.000000</td>\n",
       "      <td>...</td>\n",
       "      <td>87951.000000</td>\n",
       "      <td>87951.000000</td>\n",
       "      <td>87951.000000</td>\n",
       "      <td>87951.000000</td>\n",
       "      <td>87951.000000</td>\n",
       "      <td>87951.000000</td>\n",
       "      <td>87951.000000</td>\n",
       "      <td>87951.000000</td>\n",
       "      <td>87951.000000</td>\n",
       "      <td>87951.000000</td>\n",
       "    </tr>\n",
       "    <tr>\n",
       "      <th>mean</th>\n",
       "      <td>1.143171</td>\n",
       "      <td>0.534184</td>\n",
       "      <td>0.276881</td>\n",
       "      <td>0.316290</td>\n",
       "      <td>4.325181</td>\n",
       "      <td>-84.438795</td>\n",
       "      <td>37.456033</td>\n",
       "      <td>11.055565</td>\n",
       "      <td>7.491592</td>\n",
       "      <td>1.320224</td>\n",
       "      <td>...</td>\n",
       "      <td>1.850678</td>\n",
       "      <td>600.506009</td>\n",
       "      <td>2101.362918</td>\n",
       "      <td>1999.265455</td>\n",
       "      <td>2002.113347</td>\n",
       "      <td>6.589385</td>\n",
       "      <td>6.903799</td>\n",
       "      <td>15.728860</td>\n",
       "      <td>15.728860</td>\n",
       "      <td>2.886766</td>\n",
       "    </tr>\n",
       "    <tr>\n",
       "      <th>std</th>\n",
       "      <td>0.450370</td>\n",
       "      <td>3.075452</td>\n",
       "      <td>1.336561</td>\n",
       "      <td>1.793138</td>\n",
       "      <td>22.312659</td>\n",
       "      <td>46.966700</td>\n",
       "      <td>14.067686</td>\n",
       "      <td>40.533493</td>\n",
       "      <td>3.560943</td>\n",
       "      <td>0.977549</td>\n",
       "      <td>...</td>\n",
       "      <td>3.094395</td>\n",
       "      <td>1507.969996</td>\n",
       "      <td>2970.271576</td>\n",
       "      <td>11.903151</td>\n",
       "      <td>13.011296</td>\n",
       "      <td>3.061984</td>\n",
       "      <td>3.031236</td>\n",
       "      <td>8.839005</td>\n",
       "      <td>8.839005</td>\n",
       "      <td>3.544021</td>\n",
       "    </tr>\n",
       "    <tr>\n",
       "      <th>min</th>\n",
       "      <td>0.000000</td>\n",
       "      <td>0.000000</td>\n",
       "      <td>0.000000</td>\n",
       "      <td>0.000000</td>\n",
       "      <td>0.000000</td>\n",
       "      <td>-177.375430</td>\n",
       "      <td>-77.848335</td>\n",
       "      <td>0.000000</td>\n",
       "      <td>1.000000</td>\n",
       "      <td>0.000000</td>\n",
       "      <td>...</td>\n",
       "      <td>0.000000</td>\n",
       "      <td>0.000000</td>\n",
       "      <td>0.000000</td>\n",
       "      <td>1948.000000</td>\n",
       "      <td>1980.000000</td>\n",
       "      <td>1.000000</td>\n",
       "      <td>1.000000</td>\n",
       "      <td>1.000000</td>\n",
       "      <td>1.000000</td>\n",
       "      <td>0.000000</td>\n",
       "    </tr>\n",
       "    <tr>\n",
       "      <th>25%</th>\n",
       "      <td>1.000000</td>\n",
       "      <td>0.000000</td>\n",
       "      <td>0.000000</td>\n",
       "      <td>0.000000</td>\n",
       "      <td>0.000000</td>\n",
       "      <td>-110.929451</td>\n",
       "      <td>33.370320</td>\n",
       "      <td>3.000000</td>\n",
       "      <td>4.000000</td>\n",
       "      <td>1.000000</td>\n",
       "      <td>...</td>\n",
       "      <td>0.000000</td>\n",
       "      <td>2.000000</td>\n",
       "      <td>111.000000</td>\n",
       "      <td>1989.000000</td>\n",
       "      <td>1992.000000</td>\n",
       "      <td>4.000000</td>\n",
       "      <td>4.000000</td>\n",
       "      <td>8.000000</td>\n",
       "      <td>8.000000</td>\n",
       "      <td>1.000000</td>\n",
       "    </tr>\n",
       "    <tr>\n",
       "      <th>50%</th>\n",
       "      <td>1.000000</td>\n",
       "      <td>0.000000</td>\n",
       "      <td>0.000000</td>\n",
       "      <td>0.000000</td>\n",
       "      <td>1.000000</td>\n",
       "      <td>-90.664799</td>\n",
       "      <td>38.729625</td>\n",
       "      <td>4.000000</td>\n",
       "      <td>7.000000</td>\n",
       "      <td>1.000000</td>\n",
       "      <td>...</td>\n",
       "      <td>0.000000</td>\n",
       "      <td>6.000000</td>\n",
       "      <td>442.000000</td>\n",
       "      <td>1998.000000</td>\n",
       "      <td>2000.000000</td>\n",
       "      <td>7.000000</td>\n",
       "      <td>8.000000</td>\n",
       "      <td>16.000000</td>\n",
       "      <td>16.000000</td>\n",
       "      <td>1.000000</td>\n",
       "    </tr>\n",
       "    <tr>\n",
       "      <th>75%</th>\n",
       "      <td>1.000000</td>\n",
       "      <td>0.000000</td>\n",
       "      <td>0.000000</td>\n",
       "      <td>0.000000</td>\n",
       "      <td>2.000000</td>\n",
       "      <td>-79.384030</td>\n",
       "      <td>43.207178</td>\n",
       "      <td>5.000000</td>\n",
       "      <td>12.000000</td>\n",
       "      <td>1.000000</td>\n",
       "      <td>...</td>\n",
       "      <td>3.000000</td>\n",
       "      <td>59.000000</td>\n",
       "      <td>3324.000000</td>\n",
       "      <td>2009.000000</td>\n",
       "      <td>2020.000000</td>\n",
       "      <td>9.000000</td>\n",
       "      <td>9.000000</td>\n",
       "      <td>23.000000</td>\n",
       "      <td>23.000000</td>\n",
       "      <td>3.000000</td>\n",
       "    </tr>\n",
       "    <tr>\n",
       "      <th>max</th>\n",
       "      <td>8.000000</td>\n",
       "      <td>270.000000</td>\n",
       "      <td>137.000000</td>\n",
       "      <td>380.000000</td>\n",
       "      <td>459.000000</td>\n",
       "      <td>179.559745</td>\n",
       "      <td>90.000000</td>\n",
       "      <td>660.000000</td>\n",
       "      <td>21.000000</td>\n",
       "      <td>14.000000</td>\n",
       "      <td>...</td>\n",
       "      <td>25.000000</td>\n",
       "      <td>7551.000000</td>\n",
       "      <td>11562.000000</td>\n",
       "      <td>2022.000000</td>\n",
       "      <td>2022.000000</td>\n",
       "      <td>12.000000</td>\n",
       "      <td>12.000000</td>\n",
       "      <td>31.000000</td>\n",
       "      <td>31.000000</td>\n",
       "      <td>38.000000</td>\n",
       "    </tr>\n",
       "  </tbody>\n",
       "</table>\n",
       "<p>8 rows × 23 columns</p>\n",
       "</div>"
      ],
      "text/plain": [
       "       Number Of Engines  Total Fatal Injuries  Total Serious Injuries  \\\n",
       "count       87951.000000          87951.000000            87951.000000   \n",
       "mean            1.143171              0.534184                0.276881   \n",
       "std             0.450370              3.075452                1.336561   \n",
       "min             0.000000              0.000000                0.000000   \n",
       "25%             1.000000              0.000000                0.000000   \n",
       "50%             1.000000              0.000000                0.000000   \n",
       "75%             1.000000              0.000000                0.000000   \n",
       "max             8.000000            270.000000              137.000000   \n",
       "\n",
       "       Total Minor Injuries  Total Uninjured     Longitude      Latitude  \\\n",
       "count          87951.000000     87951.000000  87951.000000  87951.000000   \n",
       "mean               0.316290         4.325181    -84.438795     37.456033   \n",
       "std                1.793138        22.312659     46.966700     14.067686   \n",
       "min                0.000000         0.000000   -177.375430    -77.848335   \n",
       "25%                0.000000         0.000000   -110.929451     33.370320   \n",
       "50%                0.000000         1.000000    -90.664799     38.729625   \n",
       "75%                0.000000         2.000000    -79.384030     43.207178   \n",
       "max              380.000000       459.000000    179.559745     90.000000   \n",
       "\n",
       "       Number Of Seats  Type Aircraft   Type Engine  ...  \\\n",
       "count     87951.000000   87951.000000  87951.000000  ...   \n",
       "mean         11.055565       7.491592      1.320224  ...   \n",
       "std          40.533493       3.560943      0.977549  ...   \n",
       "min           0.000000       1.000000      0.000000  ...   \n",
       "25%           3.000000       4.000000      1.000000  ...   \n",
       "50%           4.000000       7.000000      1.000000  ...   \n",
       "75%           5.000000      12.000000      1.000000  ...   \n",
       "max         660.000000      21.000000     14.000000  ...   \n",
       "\n",
       "       Purpose Of Flight Factorized  Make Factorized  Model Factorized  \\\n",
       "count                  87951.000000     87951.000000      87951.000000   \n",
       "mean                       1.850678       600.506009       2101.362918   \n",
       "std                        3.094395      1507.969996       2970.271576   \n",
       "min                        0.000000         0.000000          0.000000   \n",
       "25%                        0.000000         2.000000        111.000000   \n",
       "50%                        0.000000         6.000000        442.000000   \n",
       "75%                        3.000000        59.000000       3324.000000   \n",
       "max                       25.000000      7551.000000      11562.000000   \n",
       "\n",
       "         Event Year  Publication Year   Event Month  Publication Month  \\\n",
       "count  87951.000000      87951.000000  87951.000000       87951.000000   \n",
       "mean    1999.265455       2002.113347      6.589385           6.903799   \n",
       "std       11.903151         13.011296      3.061984           3.031236   \n",
       "min     1948.000000       1980.000000      1.000000           1.000000   \n",
       "25%     1989.000000       1992.000000      4.000000           4.000000   \n",
       "50%     1998.000000       2000.000000      7.000000           8.000000   \n",
       "75%     2009.000000       2020.000000      9.000000           9.000000   \n",
       "max     2022.000000       2022.000000     12.000000          12.000000   \n",
       "\n",
       "          Event Day  Publication Day  Date Difference  \n",
       "count  87951.000000     87951.000000     87951.000000  \n",
       "mean      15.728860        15.728860         2.886766  \n",
       "std        8.839005         8.839005         3.544021  \n",
       "min        1.000000         1.000000         0.000000  \n",
       "25%        8.000000         8.000000         1.000000  \n",
       "50%       16.000000        16.000000         1.000000  \n",
       "75%       23.000000        23.000000         3.000000  \n",
       "max       31.000000        31.000000        38.000000  \n",
       "\n",
       "[8 rows x 23 columns]"
      ]
     },
     "execution_count": 93,
     "metadata": {},
     "output_type": "execute_result"
    }
   ],
   "source": [
    "df.describe()"
   ]
  },
  {
   "cell_type": "markdown",
   "id": "3b47c414",
   "metadata": {},
   "source": [
    "### 2. Data Understanding"
   ]
  },
  {
   "cell_type": "markdown",
   "id": "42f0aa88",
   "metadata": {},
   "source": [
    "We’ll keep only the fields needed to filter by time and measure safety severity by make/model. These allows us clean the data, slice recent years (2010–2022) and compute severity rates that drive buy or no-buy recommendations.\n",
    "\n",
    "\n",
    "* *Event Id* — unique identifier (check duplication).\n",
    "* *Event Year / Month / Day* — when it happened (time filters & trends).\n",
    "* *Make* — manufacturer (compare brands).\n",
    "* *Model* — specific aircraft type (model-level rankings).\n",
    "* *Aircraft Category* — aircraft class (compare like-with-like).\n",
    "* *Number Of Engines* — single vs multi (risk differs).\n",
    "* *Engine Type* — piston / turboprop / jet / other (risk differs).\n",
    "* *Aircraft Damage* — rough severity proxy (minor/substantial/destroyed).\n",
    "* *Broad Phase Of Flight* — takeoff/landing/etc. (phase risk).\n",
    "* *Weather Condition* — VMC/IMC etc. (weather-related risk).\n",
    "* *Purpose Of Flight* *(if present)* — personal/training/commercial (ops context).\n",
    "* *Injury columns* — *Total Fatal / Serious / Minor / Uninjured* (define severity).\n"
   ]
  },
  {
   "cell_type": "code",
   "execution_count": 94,
   "id": "2beb6f3d",
   "metadata": {},
   "outputs": [
    {
     "data": {
      "text/plain": [
       "City                     12\n",
       "Longitude                 0\n",
       "Analysis                  0\n",
       "Broad Phase Of Flight     0\n",
       "Weather Condition         0\n",
       "dtype: int64"
      ]
     },
     "execution_count": 94,
     "metadata": {},
     "output_type": "execute_result"
    }
   ],
   "source": [
    "# Check for missing values\n",
    "(df.isna().sum()).sort_values(ascending=False).head()"
   ]
  },
  {
   "cell_type": "code",
   "execution_count": 95,
   "id": "4b6ae544",
   "metadata": {},
   "outputs": [
    {
     "data": {
      "image/png": "[encoded data removed]",
      "text/plain": [
       "<Figure size 576x288 with 1 Axes>"
      ]
     },
     "metadata": {
      "needs_background": "light"
     },
     "output_type": "display_data"
    }
   ],
   "source": [
    "# Bar chart for missing values\n",
    "missing_vls = (df.isna().sum()).sort_values(ascending=False).head()\n",
    "missing_vls.plot(kind=\"barh\", figsize=(8,4))\n",
    "plt.xlabel(\"Data Points Missing\")\n",
    "plt.ylabel(\"Column\")\n",
    "plt.title(\"Top 5 columns by missing data\")\n",
    "plt.gca().invert_yaxis()\n",
    "plt.show();"
   ]
  },
  {
   "cell_type": "markdown",
   "id": "d1da20ce",
   "metadata": {},
   "source": [
    "The horizontal bar chart shows the top 5 columns with the most missing values in descending order"
   ]
  },
  {
   "cell_type": "code",
   "execution_count": 96,
   "id": "31edfa3a",
   "metadata": {},
   "outputs": [
    {
     "data": {
      "text/plain": [
       "0"
      ]
     },
     "execution_count": 96,
     "metadata": {},
     "output_type": "execute_result"
    }
   ],
   "source": [
    "# Check for duplicates in the Event ID column\n",
    "df['Event Id'].duplicated().sum()"
   ]
  },
  {
   "cell_type": "code",
   "execution_count": 97,
   "id": "9cbf7054",
   "metadata": {},
   "outputs": [
    {
     "data": {
      "text/plain": [
       "(True, True, True)"
      ]
     },
     "execution_count": 97,
     "metadata": {},
     "output_type": "execute_result"
    }
   ],
   "source": [
    "# Ensure the event date fields exist so that we can filter by time\n",
    "'Event Year' in df.columns, 'Event Month' in df.columns, 'Event Day' in df.columns"
   ]
  },
  {
   "cell_type": "code",
   "execution_count": 98,
   "id": "ce75f294",
   "metadata": {},
   "outputs": [
    {
     "data": {
      "text/plain": [
       "True"
      ]
     },
     "execution_count": 98,
     "metadata": {},
     "output_type": "execute_result"
    }
   ],
   "source": [
    "# Check date parts are valid (no weird years, months or days)\n",
    "df[\"Event Year\"].between(1960, 2023).all()\n",
    "df[\"Event Month\"].between(1, 12).all()\n",
    "df[\"Event Day\"].between(1, 31).all()"
   ]
  },
  {
   "cell_type": "code",
   "execution_count": 99,
   "id": "be76c168",
   "metadata": {},
   "outputs": [
    {
     "data": {
      "text/html": [
       "<div>\n",
       "<style scoped>\n",
       "    .dataframe tbody tr th:only-of-type {\n",
       "        vertical-align: middle;\n",
       "    }\n",
       "\n",
       "    .dataframe tbody tr th {\n",
       "        vertical-align: top;\n",
       "    }\n",
       "\n",
       "    .dataframe thead th {\n",
       "        text-align: right;\n",
       "    }\n",
       "</style>\n",
       "<table border=\"1\" class=\"dataframe\">\n",
       "  <thead>\n",
       "    <tr style=\"text-align: right;\">\n",
       "      <th></th>\n",
       "      <th>unique</th>\n",
       "    </tr>\n",
       "  </thead>\n",
       "  <tbody>\n",
       "    <tr>\n",
       "      <th>Model</th>\n",
       "      <td>11563</td>\n",
       "    </tr>\n",
       "    <tr>\n",
       "      <th>Make</th>\n",
       "      <td>7552</td>\n",
       "    </tr>\n",
       "    <tr>\n",
       "      <th>Investigation Type</th>\n",
       "      <td>2</td>\n",
       "    </tr>\n",
       "  </tbody>\n",
       "</table>\n",
       "</div>"
      ],
      "text/plain": [
       "                    unique\n",
       "Model                11563\n",
       "Make                  7552\n",
       "Investigation Type       2"
      ]
     },
     "execution_count": 99,
     "metadata": {},
     "output_type": "execute_result"
    }
   ],
   "source": [
    "# Unique counts for key categoricals (no NaN/blank cols needed)\n",
    "cols = [\"Make\", \"Model\", \"Investigation Type\"]\n",
    "cat_overview = pd.DataFrame(\n",
    "    {\"unique\": [df[c].nunique(dropna=True) for c in cols]},\n",
    "    index=cols\n",
    ").sort_values(\"unique\", ascending=False)\n",
    "cat_overview"
   ]
  },
  {
   "cell_type": "code",
   "execution_count": 100,
   "id": "522fe8fa",
   "metadata": {},
   "outputs": [
    {
     "name": "stdout",
     "output_type": "stream",
     "text": [
      "Number Of Engines → min=0, max=8\n"
     ]
    }
   ],
   "source": [
    "# Engine/aircraft fields are realistic\n",
    "# expect small integers, 0 is for without engine (engine-less aircraft)\n",
    "mn = df[\"Number Of Engines\"].min()\n",
    "mx = df[\"Number Of Engines\"].max()\n",
    "print(f\"Number Of Engines → min={mn}, max={mx}\")"
   ]
  },
  {
   "cell_type": "code",
   "execution_count": 101,
   "id": "70dd2e7a",
   "metadata": {},
   "outputs": [
    {
     "name": "stdout",
     "output_type": "stream",
     "text": [
      "     Engine Type  Count\n",
      "   reciprocating  72940\n",
      "      turbo prop   5357\n",
      "     turbo shaft   4283\n",
      "       turbo fan   2765\n",
      "  without engine   1504\n",
      "       turbo jet    790\n",
      "         4 cycle    179\n",
      "        electric     62\n",
      "         2 cycle     54\n",
      " geared turbofan     12\n"
     ]
    }
   ],
   "source": [
    "# Engine Type table\n",
    "eng_type_tbl = df[\"Engine Type\"].value_counts().reset_index()\n",
    "eng_type_tbl.columns = [\"Engine Type\", \"Count\"]\n",
    "print(eng_type_tbl.head(10).to_string(index=False))"
   ]
  },
  {
   "cell_type": "code",
   "execution_count": 102,
   "id": "22c6cfa0",
   "metadata": {},
   "outputs": [
    {
     "name": "stdout",
     "output_type": "stream",
     "text": [
      "        Aircraft Category  Count\n",
      " fixed wing single engine  30655\n",
      "                 airplane  27756\n",
      "     weight-shift-control  10770\n",
      "  fixed wing multi engine   5828\n",
      "               rotorcraft   4008\n",
      "               helicopter   3552\n",
      "        powered parachute   2853\n",
      "                   glider    879\n",
      "                  balloon    764\n",
      "                gyroplane    494\n"
     ]
    }
   ],
   "source": [
    "# Aircraft Category table\n",
    "cat_tbl = df[\"Aircraft Category\"].value_counts().reset_index()\n",
    "cat_tbl.columns = [\"Aircraft Category\", \"Count\"]\n",
    "print(cat_tbl.head(10).to_string(index=False))"
   ]
  },
  {
   "cell_type": "code",
   "execution_count": 103,
   "id": "c2774e93",
   "metadata": {},
   "outputs": [
    {
     "data": {
      "text/plain": [
       "[]"
      ]
     },
     "execution_count": 103,
     "metadata": {},
     "output_type": "execute_result"
    }
   ],
   "source": [
    "# check for injuries (negative counts should not happen)\n",
    "injury_cols = [\"Total Fatal Injuries\", \"Total Serious Injuries\",\n",
    "               \"Total Minor Injuries\", \"Total Uninjured\"]\n",
    "\n",
    "\n",
    "# list of columns with any negatives\n",
    "cols_with_neg = [c for c in injury_cols\n",
    "                 if c in df.columns and (pd.to_numeric(df[c], errors=\"coerce\") < 0).any()]\n",
    "cols_with_neg"
   ]
  },
  {
   "cell_type": "markdown",
   "id": "00748e1b",
   "metadata": {},
   "source": [
    "### 3. Data Cleaning and Preparation"
   ]
  },
  {
   "cell_type": "code",
   "execution_count": 104,
   "id": "98a0165c",
   "metadata": {},
   "outputs": [
    {
     "data": {
      "text/plain": [
       "Total Fatal Injuries      int64\n",
       "Total Serious Injuries    int64\n",
       "Total Minor Injuries      int64\n",
       "Total Uninjured           int64\n",
       "Number Of Engines         int64\n",
       "dtype: object"
      ]
     },
     "execution_count": 104,
     "metadata": {},
     "output_type": "execute_result"
    }
   ],
   "source": [
    "# Confirm Key numeric fields are numeric\n",
    "df[[\"Total Fatal Injuries\",\"Total Serious Injuries\",\"Total Minor Injuries\",\"Total Uninjured\",\"Number Of Engines\"]].dtypes"
   ]
  },
  {
   "cell_type": "code",
   "execution_count": 105,
   "id": "00cddad0",
   "metadata": {},
   "outputs": [
    {
     "name": "stdout",
     "output_type": "stream",
     "text": [
      "event_date range: 1948-10-24 00:00:00 → 2022-12-29 00:00:00\n",
      "recent_flag count: 21274\n"
     ]
    }
   ],
   "source": [
    "# We already have clean numeric parts: Event Year / Month / Day.\n",
    "# combine them into one real datetime column for easy filtering/sorting/plotting,\n",
    "# and add a simple flag to quickly focus on modern events.\n",
    "\n",
    "# Build a proper pandas datetime from the separate parts\n",
    "df[\"event_date\"] = pd.to_datetime({\n",
    "    \"year\":  df[\"Event Year\"],  \n",
    "    \"month\": df[\"Event Month\"],  \n",
    "    \"day\":   df[\"Event Day\"]    \n",
    "})\n",
    "\n",
    "# Create a True/False flag for \"recent\" events (>= 2010)\n",
    "# This is just a convenience so you can quickly subset: df_recent = df[df[\"recent_flag\"]]\n",
    "df[\"recent_flag\"] = df[\"event_date\"].dt.year >= 2010\n",
    "\n",
    "# earliest and latest dates, and how many are recent\n",
    "print(\"event_date range:\", df[\"event_date\"].min(), \"→\", df[\"event_date\"].max())\n",
    "print(\"recent_flag count:\", df[\"recent_flag\"].sum())"
   ]
  },
  {
   "cell_type": "code",
   "execution_count": 106,
   "id": "a619c1e5",
   "metadata": {},
   "outputs": [],
   "source": [
    "# Tidy column headers: lowercase + remove extra spaces + replace inner spaces with underscores\n",
    "df.columns = [col.strip().lower().replace(' ', '_') for col in df.columns]"
   ]
  },
  {
   "cell_type": "code",
   "execution_count": 107,
   "id": "cbe96d02",
   "metadata": {},
   "outputs": [
    {
     "name": "stdout",
     "output_type": "stream",
     "text": [
      "Shape: (87951, 47)\n",
      "City missing: 12\n"
     ]
    }
   ],
   "source": [
    "print(\"Shape:\", df.shape)                 \n",
    "print(\"City missing:\", df[\"city\"].isna().sum())  "
   ]
  },
  {
   "cell_type": "code",
   "execution_count": 108,
   "id": "504437f2",
   "metadata": {},
   "outputs": [
    {
     "data": {
      "text/plain": [
       "(87939, 47)"
      ]
     },
     "execution_count": 108,
     "metadata": {},
     "output_type": "execute_result"
    }
   ],
   "source": [
    "# Drop rows with missing city (12 rows)\n",
    "\n",
    "# Drop only rows where 'city' is NaN\n",
    "# We do this because 'city' isn't critical for our analysis.\n",
    "df = df.dropna(subset=[\"city\"])\n",
    "df.shape\n"
   ]
  },
  {
   "cell_type": "markdown",
   "id": "11b61161",
   "metadata": {},
   "source": [
    "### 4. Feature Engineering\n",
    "\n",
    "\n",
    "Here we create new variables from the raw NTSB data to capture safety risk more clearly. This includes calculating severity metrics such as fatal or serious-injury rates and a weighted severity index, adding operational flags for commercial versus non-commercial flights and engine types, and generating time-based fields like yearly accident counts and seasonal categories to reveal trends and patterns.\n"
   ]
  },
  {
   "cell_type": "code",
   "execution_count": 109,
   "id": "c90b066b",
   "metadata": {},
   "outputs": [],
   "source": [
    "# 1. Severity metrics\n",
    "\n",
    "# Define the columns we'll use\n",
    "col_make   = \"make\"\n",
    "col_model  = \"model\"\n",
    "col_fatal  = \"total_fatal_injuries\"\n",
    "col_ser    = \"total_serious_injuries\"\n",
    "col_minor  = \"total_minor_injuries\"\n"
   ]
  },
  {
   "cell_type": "code",
   "execution_count": 110,
   "id": "21d3331c",
   "metadata": {},
   "outputs": [],
   "source": [
    "# Per-event flags and a weighted severity index\n",
    "#  - is_fatal: at least 1 fatal injury in the event\n",
    "#  - is_serious: at least 1 serious injury in the event\n",
    "#  - is_severe: serious OR fatal (used for \"severe rate\")\n",
    "#  - everity_index: 5*fatal + 3*serious + 1*minor (a simple severity score)\n",
    "\n",
    "fatal  = pd.to_numeric(df[col_fatal], errors=\"coerce\").fillna(0)\n",
    "ser    = pd.to_numeric(df[col_ser],   errors=\"coerce\").fillna(0)\n",
    "minor  = pd.to_numeric(df[col_minor], errors=\"coerce\").fillna(0)\n",
    "\n",
    "df[\"is_fatal\"]   = fatal  > 0\n",
    "df[\"is_serious\"] = ser    > 0\n",
    "df[\"is_severe\"]  = df[\"is_fatal\"] | df[\"is_serious\"]\n",
    "df[\"severity_index\"] = 5*fatal + 3*ser + 1*minor\n"
   ]
  },
  {
   "cell_type": "code",
   "execution_count": 112,
   "id": "90ba5247",
   "metadata": {},
   "outputs": [
    {
     "data": {
      "text/html": [
       "<div>\n",
       "<style scoped>\n",
       "    .dataframe tbody tr th:only-of-type {\n",
       "        vertical-align: middle;\n",
       "    }\n",
       "\n",
       "    .dataframe tbody tr th {\n",
       "        vertical-align: top;\n",
       "    }\n",
       "\n",
       "    .dataframe thead th {\n",
       "        text-align: right;\n",
       "    }\n",
       "</style>\n",
       "<table border=\"1\" class=\"dataframe\">\n",
       "  <thead>\n",
       "    <tr style=\"text-align: right;\">\n",
       "      <th></th>\n",
       "      <th>make</th>\n",
       "      <th>model</th>\n",
       "      <th>events</th>\n",
       "      <th>fatal_rate</th>\n",
       "      <th>severe_rate</th>\n",
       "      <th>avg_severity_index</th>\n",
       "    </tr>\n",
       "  </thead>\n",
       "  <tbody>\n",
       "    <tr>\n",
       "      <th>0</th>\n",
       "      <td>107.5 flying corporation</td>\n",
       "      <td>one design dr 107</td>\n",
       "      <td>1</td>\n",
       "      <td>1.0</td>\n",
       "      <td>1.0</td>\n",
       "      <td>5.0</td>\n",
       "    </tr>\n",
       "    <tr>\n",
       "      <th>1</th>\n",
       "      <td>1200</td>\n",
       "      <td>g103</td>\n",
       "      <td>1</td>\n",
       "      <td>0.0</td>\n",
       "      <td>1.0</td>\n",
       "      <td>3.0</td>\n",
       "    </tr>\n",
       "    <tr>\n",
       "      <th>2</th>\n",
       "      <td>177mf llc</td>\n",
       "      <td>pitts model 12</td>\n",
       "      <td>1</td>\n",
       "      <td>0.0</td>\n",
       "      <td>1.0</td>\n",
       "      <td>6.0</td>\n",
       "    </tr>\n",
       "    <tr>\n",
       "      <th>3</th>\n",
       "      <td>1977 colfer-chan</td>\n",
       "      <td>steen skybolt</td>\n",
       "      <td>1</td>\n",
       "      <td>0.0</td>\n",
       "      <td>0.0</td>\n",
       "      <td>1.0</td>\n",
       "    </tr>\n",
       "    <tr>\n",
       "      <th>4</th>\n",
       "      <td>1st ftr gp</td>\n",
       "      <td>focke-wulf 190</td>\n",
       "      <td>1</td>\n",
       "      <td>1.0</td>\n",
       "      <td>1.0</td>\n",
       "      <td>5.0</td>\n",
       "    </tr>\n",
       "    <tr>\n",
       "      <th>5</th>\n",
       "      <td>2000 mccoy</td>\n",
       "      <td>genesis</td>\n",
       "      <td>1</td>\n",
       "      <td>1.0</td>\n",
       "      <td>1.0</td>\n",
       "      <td>5.0</td>\n",
       "    </tr>\n",
       "    <tr>\n",
       "      <th>6</th>\n",
       "      <td>2001 mcgirl</td>\n",
       "      <td>questair venture</td>\n",
       "      <td>1</td>\n",
       "      <td>0.0</td>\n",
       "      <td>1.0</td>\n",
       "      <td>4.0</td>\n",
       "    </tr>\n",
       "    <tr>\n",
       "      <th>7</th>\n",
       "      <td>2003 nash</td>\n",
       "      <td>kitfox ii</td>\n",
       "      <td>1</td>\n",
       "      <td>0.0</td>\n",
       "      <td>0.0</td>\n",
       "      <td>1.0</td>\n",
       "    </tr>\n",
       "    <tr>\n",
       "      <th>8</th>\n",
       "      <td>2007 savage air llc</td>\n",
       "      <td>epic lt</td>\n",
       "      <td>1</td>\n",
       "      <td>0.0</td>\n",
       "      <td>0.0</td>\n",
       "      <td>0.0</td>\n",
       "    </tr>\n",
       "    <tr>\n",
       "      <th>9</th>\n",
       "      <td>2021fx3 llc</td>\n",
       "      <td>ccx-2000</td>\n",
       "      <td>2</td>\n",
       "      <td>0.0</td>\n",
       "      <td>0.0</td>\n",
       "      <td>0.0</td>\n",
       "    </tr>\n",
       "  </tbody>\n",
       "</table>\n",
       "</div>"
      ],
      "text/plain": [
       "                       make              model  events  fatal_rate  \\\n",
       "0  107.5 flying corporation  one design dr 107       1         1.0   \n",
       "1                      1200               g103       1         0.0   \n",
       "2                 177mf llc     pitts model 12       1         0.0   \n",
       "3          1977 colfer-chan      steen skybolt       1         0.0   \n",
       "4                1st ftr gp     focke-wulf 190       1         1.0   \n",
       "5                2000 mccoy            genesis       1         1.0   \n",
       "6               2001 mcgirl   questair venture       1         0.0   \n",
       "7                 2003 nash          kitfox ii       1         0.0   \n",
       "8       2007 savage air llc            epic lt       1         0.0   \n",
       "9               2021fx3 llc           ccx-2000       2         0.0   \n",
       "\n",
       "   severe_rate  avg_severity_index  \n",
       "0          1.0                 5.0  \n",
       "1          1.0                 3.0  \n",
       "2          1.0                 6.0  \n",
       "3          0.0                 1.0  \n",
       "4          1.0                 5.0  \n",
       "5          1.0                 5.0  \n",
       "6          1.0                 4.0  \n",
       "7          0.0                 1.0  \n",
       "8          0.0                 0.0  \n",
       "9          0.0                 0.0  "
      ]
     },
     "execution_count": 112,
     "metadata": {},
     "output_type": "execute_result"
    }
   ],
   "source": [
    "# 3) Compute rates per aircraft model (Make–Model level)\n",
    "#    - events: number of records for that model\n",
    "#    - fatal_rate: share of events with any fatality\n",
    "#    - severe_rate: share of events with serious OR fatal injuries\n",
    "#    - avg_severity_index: average of the weighted index\n",
    "\n",
    "grp = df.groupby([col_make, col_model], dropna=False)\n",
    "model_severity = pd.concat([\n",
    "    grp.size().rename(\"events\"),\n",
    "    grp[\"is_fatal\"].mean().rename(\"fatal_rate\"),\n",
    "    grp[\"is_severe\"].mean().rename(\"severe_rate\"),\n",
    "    grp[\"severity_index\"].mean().rename(\"avg_severity_index\"),\n",
    "], axis=1).reset_index()\n",
    "\n",
    "# Peek at the result\n",
    "model_severity.head(10)\n"
   ]
  },
  {
   "cell_type": "markdown",
   "id": "3e8a845d",
   "metadata": {},
   "source": [
    "The sections above cleans the injury-count columns, then adds easy-to-analyze flags (is_fatal, is_serious, is_severe) and a single numeric severity_index so we can group or aggregate accidents by how severe they were."
   ]
  },
  {
   "cell_type": "code",
   "execution_count": null,
   "id": "e9ba3675",
   "metadata": {},
   "outputs": [
    {
     "name": "stdout",
     "output_type": "stream",
     "text": [
      "Commercial share: 0.0\n",
      "Single-engine share: 0.838\n",
      "Turbine share: 0.031\n"
     ]
    }
   ],
   "source": [
    "# Operational features\n",
    "\n",
    "# Goal:\n",
    "# 1) Flag commercial vs non-commercial using purpose_of_flight / schedule.\n",
    "# 2) Engine flags: single vs multi; reciprocating (piston) vs turbine.\n",
    "\n",
    "# Commercial vs non-commercial\n",
    "commercial_words = [\"air taxi\", \"airline\", \"charter\", \"cargo\", \"part 121\", \"part 135\"]\n",
    "\n",
    "df[\"is_commercial\"] = (\n",
    "    purpose.str.contains(\"|\".join(commercial_words)) |\n",
    "    schedule.str.contains(\"|\".join(commercial_words))\n",
    ")\n",
    "\n",
    "# Engine-related flags\n",
    "eng_count = pd.to_numeric(df[\"number_of_engines\"], errors=\"coerce\")\n",
    "\n",
    "df[\"is_single_engine\"] = eng_count.eq(1)\n",
    "df[\"is_multi_engine\"]  = eng_count.ge(2)\n",
    "\n",
    "eng_type = df[\"engine_type\"].astype(str).str.lower().fillna(\"\")\n",
    "df[\"is_reciprocating\"] = eng_type.str.contains(\"recip|piston\")\n",
    "df[\"is_turbine\"]       = eng_type.str.contains(\"turboprop|turbojet|turbo fan|turbine\")\n",
    "\n",
    "print(\"Commercial share:\", df[\"is_commercial\"].mean().round(3))\n",
    "print(\"Single-engine share:\", df[\"is_single_engine\"].mean().round(3))\n",
    "print(\"Turbine share:\", df[\"is_turbine\"].mean().round(3))\n"
   ]
  },
  {
   "cell_type": "markdown",
   "id": "6e8a741e",
   "metadata": {},
   "source": [
    "Adds simple “operational feature” columns—commercial vs. non-commercial and key engine characteristics—so we can group or filter accidents by how the aircraft was used and powered."
   ]
  },
  {
   "cell_type": "code",
   "execution_count": 120,
   "id": "c3aca9d3",
   "metadata": {},
   "outputs": [
    {
     "name": "stdout",
     "output_type": "stream",
     "text": [
      "   event_year  events\n",
      "0        1948       1\n",
      "1        1962       1\n",
      "2        1974       1\n",
      "3        1977       1\n",
      "4        1979       2 \n",
      "\n",
      "   decade  events\n",
      "0    1940       1\n",
      "1    1960       1\n",
      "2    1970       4\n",
      "3    1980   24312\n",
      "4    1990   22661 \n",
      "\n",
      "   season  events\n",
      "0  Summer   29941\n",
      "1  Spring   22204\n",
      "2    Fall   20626\n",
      "3  Winter   15168\n"
     ]
    }
   ],
   "source": [
    "# Time-based features\n",
    "\n",
    "# 1) Events per year (trend table)\n",
    "# Uses 'event_year' directly. If you only have 'event_date', use df['event_date'].dt.year instead.\n",
    "events_per_year = (df.groupby(\"event_year\")\n",
    "                     .size()\n",
    "                     .rename(\"events\")\n",
    "                     .reset_index())\n",
    "events_per_year.head()\n",
    "\n",
    "# 2) Events per decade (e.g., 1970s, 1980s, …)\n",
    "df[\"decade\"] = (df[\"event_year\"] // 10) * 10\n",
    "events_per_decade = (df.groupby(\"decade\")\n",
    "                       .size()\n",
    "                       .rename(\"events\")\n",
    "                       .reset_index())\n",
    "events_per_decade.head()\n",
    "\n",
    "# 3) Seasonal counts (season already exists)\n",
    "# Good for spotting time-of-year effects at a glance\n",
    "season_counts = (df[\"season\"]\n",
    "                 .value_counts()\n",
    "                 .rename_axis(\"season\")\n",
    "                 .reset_index(name=\"events\"))\n",
    "\n",
    "print(events_per_year.head(), \"\\n\")\n",
    "print(events_per_decade.head(), \"\\n\")\n",
    "print(season_counts)\n"
   ]
  },
  {
   "cell_type": "markdown",
   "id": "ddfdb111",
   "metadata": {},
   "source": [
    "We group accidents by year, decade, and season to reveal temporal patterns. Annual and decade counts show long-term trends in accident frequency, while seasonal counts highlight any time-of-year effects on aviation accidents."
   ]
  },
  {
   "cell_type": "code",
   "execution_count": 129,
   "id": "f21f341a",
   "metadata": {},
   "outputs": [
    {
     "data": {
      "image/png": "[encoded data removed]",
      "text/plain": [
       "<Figure size 720x360 with 1 Axes>"
      ]
     },
     "metadata": {
      "needs_background": "light"
     },
     "output_type": "display_data"
    }
   ],
   "source": [
    "# Trend: events per year (line)\n",
    "events_per_year.plot(x=\"event_year\", y=\"events\", kind=\"line\", figsize=(10, 5))\n",
    "plt.title(\"Events per Year\")\n",
    "plt.xlabel(\"Year\")\n",
    "plt.ylabel(\"Events\")\n",
    "plt.show();"
   ]
  },
  {
   "cell_type": "markdown",
   "id": "476138bc",
   "metadata": {},
   "source": [
    "The line plot shows the annual number of recorded aviation accidents. After a sharp rise when reporting became comprehensive in the early 1980s, the overall trend steadily declines, indicating a long-term improvement in aviation safety over the past four decades."
   ]
  },
  {
   "cell_type": "code",
   "execution_count": 133,
   "id": "8f3428c7",
   "metadata": {},
   "outputs": [
    {
     "data": {
      "image/png": "[encoded data removed]",
      "text/plain": [
       "<Figure size 720x360 with 1 Axes>"
      ]
     },
     "metadata": {
      "needs_background": "light"
     },
     "output_type": "display_data"
    }
   ],
   "source": [
    "# Seasonality: events by season (bar)\n",
    "season_counts.plot(x=\"season\", y=\"events\", kind=\"bar\", edgecolor=\"black\", color= \"skyblue\", figsize=(10, 5))\n",
    "plt.title(\"Events by Season\")\n",
    "plt.xlabel(\"Season\")\n",
    "plt.ylabel(\"Events\")\n",
    "plt.show();"
   ]
  },
  {
   "cell_type": "markdown",
   "id": "687178b4",
   "metadata": {},
   "source": [
    "The bar chart shows how accidents vary across the year. Summer records the highest number of events, followed by spring and fall, while winter has the fewest. This suggests aviation accidents are more frequent during warmer months, possibly reflecting higher flight activity and weather patterns in that period."
   ]
  },
  {
   "cell_type": "markdown",
   "id": "2c8d5502",
   "metadata": {},
   "source": [
    "### 5. Explatory Data Analysis (EDA)\n",
    "\n",
    "\n",
    "In this step we explore the cleaned dataset to uncover key safety patterns. We will examine overall accident trends over time and by phase of flight, compare severity across aircraft makes, models, engine counts, and engine types, and study how flight purpose and weather conditions relate to accident outcomes. Finally, we will map accidents by state or region to highlight geographic patterns.\n"
   ]
  },
  {
   "cell_type": "code",
   "execution_count": null,
   "id": "557c020b",
   "metadata": {},
   "outputs": [
    {
     "data": {
      "text/html": [
       "<div>\n",
       "<style scoped>\n",
       "    .dataframe tbody tr th:only-of-type {\n",
       "        vertical-align: middle;\n",
       "    }\n",
       "\n",
       "    .dataframe tbody tr th {\n",
       "        vertical-align: top;\n",
       "    }\n",
       "\n",
       "    .dataframe thead th {\n",
       "        text-align: right;\n",
       "    }\n",
       "</style>\n",
       "<table border=\"1\" class=\"dataframe\">\n",
       "  <thead>\n",
       "    <tr style=\"text-align: right;\">\n",
       "      <th></th>\n",
       "      <th>broad_phase_of_flight</th>\n",
       "      <th>events</th>\n",
       "    </tr>\n",
       "  </thead>\n",
       "  <tbody>\n",
       "    <tr>\n",
       "      <th>0</th>\n",
       "      <td>Landing</td>\n",
       "      <td>27003</td>\n",
       "    </tr>\n",
       "    <tr>\n",
       "      <th>1</th>\n",
       "      <td>Takeoff</td>\n",
       "      <td>14547</td>\n",
       "    </tr>\n",
       "    <tr>\n",
       "      <th>2</th>\n",
       "      <td>Unknown</td>\n",
       "      <td>10485</td>\n",
       "    </tr>\n",
       "    <tr>\n",
       "      <th>3</th>\n",
       "      <td>Cruise</td>\n",
       "      <td>10472</td>\n",
       "    </tr>\n",
       "    <tr>\n",
       "      <th>4</th>\n",
       "      <td>Maneuvering</td>\n",
       "      <td>8444</td>\n",
       "    </tr>\n",
       "    <tr>\n",
       "      <th>5</th>\n",
       "      <td>Approach</td>\n",
       "      <td>7780</td>\n",
       "    </tr>\n",
       "    <tr>\n",
       "      <th>6</th>\n",
       "      <td>Climb</td>\n",
       "      <td>2588</td>\n",
       "    </tr>\n",
       "    <tr>\n",
       "      <th>7</th>\n",
       "      <td>Descent</td>\n",
       "      <td>2144</td>\n",
       "    </tr>\n",
       "    <tr>\n",
       "      <th>8</th>\n",
       "      <td>Taxi</td>\n",
       "      <td>2115</td>\n",
       "    </tr>\n",
       "    <tr>\n",
       "      <th>9</th>\n",
       "      <td>Go-around</td>\n",
       "      <td>1345</td>\n",
       "    </tr>\n",
       "  </tbody>\n",
       "</table>\n",
       "</div>"
      ],
      "text/plain": [
       "  broad_phase_of_flight  events\n",
       "0               Landing   27003\n",
       "1               Takeoff   14547\n",
       "2               Unknown   10485\n",
       "3                Cruise   10472\n",
       "4           Maneuvering    8444\n",
       "5              Approach    7780\n",
       "6                 Climb    2588\n",
       "7               Descent    2144\n",
       "8                  Taxi    2115\n",
       "9             Go-around    1345"
      ]
     },
     "execution_count": 134,
     "metadata": {},
     "output_type": "execute_result"
    }
   ],
   "source": [
    "# 1. Phase of flight\n",
    "\n",
    "# Counts by phase (top 10)\n",
    "phase_counts = (df[\"broad_phase_of_flight\"]\n",
    "                .value_counts()\n",
    "                .rename_axis(\"broad_phase_of_flight\")\n",
    "                .reset_index(name=\"events\"))\n",
    "phase_counts.head(10)"
   ]
  },
  {
   "cell_type": "code",
   "execution_count": 135,
   "id": "173a7db7",
   "metadata": {},
   "outputs": [
    {
     "data": {
      "text/html": [
       "<div>\n",
       "<style scoped>\n",
       "    .dataframe tbody tr th:only-of-type {\n",
       "        vertical-align: middle;\n",
       "    }\n",
       "\n",
       "    .dataframe tbody tr th {\n",
       "        vertical-align: top;\n",
       "    }\n",
       "\n",
       "    .dataframe thead th {\n",
       "        text-align: right;\n",
       "    }\n",
       "</style>\n",
       "<table border=\"1\" class=\"dataframe\">\n",
       "  <thead>\n",
       "    <tr style=\"text-align: right;\">\n",
       "      <th></th>\n",
       "      <th>broad_phase_of_flight</th>\n",
       "      <th>severe_rate</th>\n",
       "    </tr>\n",
       "  </thead>\n",
       "  <tbody>\n",
       "    <tr>\n",
       "      <th>6</th>\n",
       "      <td>Maneuvering</td>\n",
       "      <td>0.552582</td>\n",
       "    </tr>\n",
       "    <tr>\n",
       "      <th>1</th>\n",
       "      <td>Climb</td>\n",
       "      <td>0.520093</td>\n",
       "    </tr>\n",
       "    <tr>\n",
       "      <th>7</th>\n",
       "      <td>Other</td>\n",
       "      <td>0.508621</td>\n",
       "    </tr>\n",
       "    <tr>\n",
       "      <th>11</th>\n",
       "      <td>Unknown</td>\n",
       "      <td>0.467716</td>\n",
       "    </tr>\n",
       "    <tr>\n",
       "      <th>3</th>\n",
       "      <td>Descent</td>\n",
       "      <td>0.453358</td>\n",
       "    </tr>\n",
       "    <tr>\n",
       "      <th>0</th>\n",
       "      <td>Approach</td>\n",
       "      <td>0.442288</td>\n",
       "    </tr>\n",
       "    <tr>\n",
       "      <th>2</th>\n",
       "      <td>Cruise</td>\n",
       "      <td>0.418831</td>\n",
       "    </tr>\n",
       "    <tr>\n",
       "      <th>8</th>\n",
       "      <td>Standing</td>\n",
       "      <td>0.411111</td>\n",
       "    </tr>\n",
       "    <tr>\n",
       "      <th>4</th>\n",
       "      <td>Go-around</td>\n",
       "      <td>0.356134</td>\n",
       "    </tr>\n",
       "    <tr>\n",
       "      <th>9</th>\n",
       "      <td>Takeoff</td>\n",
       "      <td>0.346601</td>\n",
       "    </tr>\n",
       "  </tbody>\n",
       "</table>\n",
       "</div>"
      ],
      "text/plain": [
       "   broad_phase_of_flight  severe_rate\n",
       "6            Maneuvering     0.552582\n",
       "1                  Climb     0.520093\n",
       "7                  Other     0.508621\n",
       "11               Unknown     0.467716\n",
       "3                Descent     0.453358\n",
       "0               Approach     0.442288\n",
       "2                 Cruise     0.418831\n",
       "8               Standing     0.411111\n",
       "4              Go-around     0.356134\n",
       "9                Takeoff     0.346601"
      ]
     },
     "execution_count": 135,
     "metadata": {},
     "output_type": "execute_result"
    }
   ],
   "source": [
    "# Severe rate by phase\n",
    "phase_severe = (df.groupby(\"broad_phase_of_flight\")[\"is_severe\"]\n",
    "                  .mean()\n",
    "                  .rename(\"severe_rate\")\n",
    "                  .reset_index()\n",
    "                  .sort_values(\"severe_rate\", ascending=False))\n",
    "phase_severe.head(10)"
   ]
  },
  {
   "cell_type": "code",
   "execution_count": 140,
   "id": "a592aa5f",
   "metadata": {},
   "outputs": [
    {
     "data": {
      "text/html": [
       "<div>\n",
       "<style scoped>\n",
       "    .dataframe tbody tr th:only-of-type {\n",
       "        vertical-align: middle;\n",
       "    }\n",
       "\n",
       "    .dataframe tbody tr th {\n",
       "        vertical-align: top;\n",
       "    }\n",
       "\n",
       "    .dataframe thead th {\n",
       "        text-align: right;\n",
       "    }\n",
       "</style>\n",
       "<table border=\"1\" class=\"dataframe\">\n",
       "  <thead>\n",
       "    <tr style=\"text-align: right;\">\n",
       "      <th></th>\n",
       "      <th>number_of_engines</th>\n",
       "      <th>severe_rate</th>\n",
       "    </tr>\n",
       "  </thead>\n",
       "  <tbody>\n",
       "    <tr>\n",
       "      <th>0</th>\n",
       "      <td>0</td>\n",
       "      <td>0.412253</td>\n",
       "    </tr>\n",
       "    <tr>\n",
       "      <th>1</th>\n",
       "      <td>1</td>\n",
       "      <td>0.339469</td>\n",
       "    </tr>\n",
       "    <tr>\n",
       "      <th>2</th>\n",
       "      <td>2</td>\n",
       "      <td>0.414225</td>\n",
       "    </tr>\n",
       "    <tr>\n",
       "      <th>3</th>\n",
       "      <td>3</td>\n",
       "      <td>0.279762</td>\n",
       "    </tr>\n",
       "    <tr>\n",
       "      <th>4</th>\n",
       "      <td>4</td>\n",
       "      <td>0.291939</td>\n",
       "    </tr>\n",
       "    <tr>\n",
       "      <th>5</th>\n",
       "      <td>6</td>\n",
       "      <td>0.000000</td>\n",
       "    </tr>\n",
       "    <tr>\n",
       "      <th>6</th>\n",
       "      <td>8</td>\n",
       "      <td>0.666667</td>\n",
       "    </tr>\n",
       "  </tbody>\n",
       "</table>\n",
       "</div>"
      ],
      "text/plain": [
       "   number_of_engines  severe_rate\n",
       "0                  0     0.412253\n",
       "1                  1     0.339469\n",
       "2                  2     0.414225\n",
       "3                  3     0.279762\n",
       "4                  4     0.291939\n",
       "5                  6     0.000000\n",
       "6                  8     0.666667"
      ]
     },
     "execution_count": 140,
     "metadata": {},
     "output_type": "execute_result"
    }
   ],
   "source": [
    "# 2. Aircraft characteristics (engines)\n",
    "\n",
    "# Severity vs number of engines\n",
    "eng_cnt_severe = (df.groupby(\"number_of_engines\")[\"is_severe\"]\n",
    "                    .mean()\n",
    "                    .rename(\"severe_rate\")\n",
    "                    .reset_index()\n",
    "                    .sort_values(\"number_of_engines\"))\n",
    "eng_cnt_severe"
   ]
  },
  {
   "cell_type": "code",
   "execution_count": 137,
   "id": "acdbb750",
   "metadata": {},
   "outputs": [
    {
     "data": {
      "text/html": [
       "<div>\n",
       "<style scoped>\n",
       "    .dataframe tbody tr th:only-of-type {\n",
       "        vertical-align: middle;\n",
       "    }\n",
       "\n",
       "    .dataframe tbody tr th {\n",
       "        vertical-align: top;\n",
       "    }\n",
       "\n",
       "    .dataframe thead th {\n",
       "        text-align: right;\n",
       "    }\n",
       "</style>\n",
       "<table border=\"1\" class=\"dataframe\">\n",
       "  <thead>\n",
       "    <tr style=\"text-align: right;\">\n",
       "      <th></th>\n",
       "      <th>engine_type</th>\n",
       "      <th>severe_rate</th>\n",
       "    </tr>\n",
       "  </thead>\n",
       "  <tbody>\n",
       "    <tr>\n",
       "      <th>4</th>\n",
       "      <td>hybrid rocket</td>\n",
       "      <td>1.000000</td>\n",
       "    </tr>\n",
       "    <tr>\n",
       "      <th>5</th>\n",
       "      <td>lr</td>\n",
       "      <td>1.000000</td>\n",
       "    </tr>\n",
       "    <tr>\n",
       "      <th>2</th>\n",
       "      <td>electric</td>\n",
       "      <td>0.693548</td>\n",
       "    </tr>\n",
       "    <tr>\n",
       "      <th>1</th>\n",
       "      <td>4 cycle</td>\n",
       "      <td>0.525140</td>\n",
       "    </tr>\n",
       "    <tr>\n",
       "      <th>0</th>\n",
       "      <td>2 cycle</td>\n",
       "      <td>0.518519</td>\n",
       "    </tr>\n",
       "    <tr>\n",
       "      <th>11</th>\n",
       "      <td>turbo shaft</td>\n",
       "      <td>0.443458</td>\n",
       "    </tr>\n",
       "    <tr>\n",
       "      <th>12</th>\n",
       "      <td>without engine</td>\n",
       "      <td>0.430186</td>\n",
       "    </tr>\n",
       "    <tr>\n",
       "      <th>10</th>\n",
       "      <td>turbo prop</td>\n",
       "      <td>0.418409</td>\n",
       "    </tr>\n",
       "    <tr>\n",
       "      <th>9</th>\n",
       "      <td>turbo jet</td>\n",
       "      <td>0.394937</td>\n",
       "    </tr>\n",
       "    <tr>\n",
       "      <th>7</th>\n",
       "      <td>reciprocating</td>\n",
       "      <td>0.337364</td>\n",
       "    </tr>\n",
       "  </tbody>\n",
       "</table>\n",
       "</div>"
      ],
      "text/plain": [
       "       engine_type  severe_rate\n",
       "4    hybrid rocket     1.000000\n",
       "5               lr     1.000000\n",
       "2         electric     0.693548\n",
       "1          4 cycle     0.525140\n",
       "0          2 cycle     0.518519\n",
       "11     turbo shaft     0.443458\n",
       "12  without engine     0.430186\n",
       "10      turbo prop     0.418409\n",
       "9        turbo jet     0.394937\n",
       "7    reciprocating     0.337364"
      ]
     },
     "execution_count": 137,
     "metadata": {},
     "output_type": "execute_result"
    }
   ],
   "source": [
    "# Severity vs engine type\n",
    "eng_type_severe = (df.groupby(\"engine_type\")[\"is_severe\"]\n",
    "                     .mean()\n",
    "                     .rename(\"severe_rate\")\n",
    "                     .reset_index()\n",
    "                     .sort_values(\"severe_rate\", ascending=False))\n",
    "eng_type_severe.head(10)"
   ]
  },
  {
   "cell_type": "code",
   "execution_count": 143,
   "id": "080688bb",
   "metadata": {},
   "outputs": [
    {
     "name": "stdout",
     "output_type": "stream",
     "text": [
      "          purpose_of_flight  severe_rate\n",
      "0                      ASHO     0.800000\n",
      "5             Air Race/show     0.796296\n",
      "11             Firefighting     0.650000\n",
      "24                Skydiving     0.629834\n",
      "2        Aerial Observation     0.495553\n",
      "4             Air Race show     0.494949\n",
      "13               Glider Tow     0.471698\n",
      "6                Banner Tow     0.455446\n",
      "3                  Air Drop     0.454545\n",
      "23  Public Aircraft - State     0.453125\n"
     ]
    }
   ],
   "source": [
    "# 3. Operational context\n",
    "\n",
    "# Purpose of flight vs severity\n",
    "if \"purpose_of_flight\" in df.columns:\n",
    "    purpose_severe = (df.groupby(\"purpose_of_flight\")[\"is_severe\"]\n",
    "                        .mean()\n",
    "                        .rename(\"severe_rate\")\n",
    "                        .reset_index()\n",
    "                        .sort_values(\"severe_rate\", ascending=False))\n",
    "    print(purpose_severe.head(10))"
   ]
  },
  {
   "cell_type": "code",
   "execution_count": 147,
   "id": "d35d8517",
   "metadata": {},
   "outputs": [
    {
     "name": "stdout",
     "output_type": "stream",
     "text": [
      "  weather_condition  severe_rate\n",
      "0               IMC     0.704152\n",
      "1               UNK     0.606306\n",
      "2               VMC     0.320611\n"
     ]
    }
   ],
   "source": [
    "# Weather vs severity\n",
    "if \"weather_condition\" in df.columns:\n",
    "    weather_severe = (df.groupby(\"weather_condition\")[\"is_severe\"]\n",
    "                        .mean()\n",
    "                        .rename(\"severe_rate\")\n",
    "                        .reset_index()\n",
    "                        .sort_values(\"severe_rate\", ascending=False))\n",
    "    print(weather_severe)"
   ]
  },
  {
   "cell_type": "code",
   "execution_count": 149,
   "id": "f332d49b",
   "metadata": {},
   "outputs": [
    {
     "name": "stdout",
     "output_type": "stream",
     "text": [
      "            city  events\n",
      "0      anchorage     588\n",
      "1          miami     280\n",
      "2        houston     274\n",
      "3    albuquerque     260\n",
      "4      fairbanks     242\n",
      "5        chicago     236\n",
      "6        phoenix     221\n",
      "7        atlanta     206\n",
      "8         tucson     194\n",
      "9   jacksonville     194\n",
      "10        denver     193\n",
      "11     las vegas     192\n",
      "12          reno     175\n",
      "13      columbus     174\n",
      "14     san diego     173\n"
     ]
    }
   ],
   "source": [
    "# 4. Geography\n",
    "\n",
    "# Top states (if present)\n",
    "if \"state\" in df.columns:\n",
    "    top_states = (df[\"state\"].value_counts()\n",
    "                    .head(15)\n",
    "                    .rename_axis(\"state\")\n",
    "                    .reset_index(name=\"events\"))\n",
    "    top_states\n",
    "elif \"city\" in df.columns:\n",
    "    # Fallback to top cities\n",
    "    top_cities = (df[\"city\"].value_counts()\n",
    "                    .head(15)\n",
    "                    .rename_axis(\"city\")\n",
    "                    .reset_index(name=\"events\"))\n",
    "    print(top_cities)"
   ]
  },
  {
   "cell_type": "markdown",
   "id": "6a8e5701",
   "metadata": {},
   "source": [
    "We created a simple *severity flag* and checked patterns across key axes: *time* (events and severe-rate by year), *phase of flight* (where risk concentrates), *aircraft* (make–model; engines and engine type vs severity), *operations* (purpose of flight vs severity), *weather*, and *geography* (top states/cities). This highlights when/where severe accidents cluster and which aircraft/contexts are riskier."
   ]
  },
  {
   "cell_type": "markdown",
   "id": "2e0ccef9",
   "metadata": {},
   "source": [
    "### 6. Risk Analysis and Model Ranking\n",
    "\n",
    "\n",
    "Here we narrow the dataset to the most recent decade to reflect modern aircraft and operating practices, then set a minimum number of recorded events per model so results are statistically meaningful. Using the severity index and fatal-event share, we rank aircraft makes and models to identify those with consistently low risk and highlight the safest options for potential acquisition.\n"
   ]
  },
  {
   "cell_type": "code",
   "execution_count": null,
   "id": "1752cd99",
   "metadata": {},
   "outputs": [],
   "source": []
  }
 ],
 "metadata": {
  "kernelspec": {
   "display_name": "learn-env",
   "language": "python",
   "name": "python3"
  },
  "language_info": {
   "codemirror_mode": {
    "name": "ipython",
    "version": 3
   },
   "file_extension": ".py",
   "mimetype": "text/x-python",
   "name": "python",
   "nbconvert_exporter": "python",
   "pygments_lexer": "ipython3",
   "version": "3.8.5"
  }
 },
 "nbformat": 4,
 "nbformat_minor": 5
}
